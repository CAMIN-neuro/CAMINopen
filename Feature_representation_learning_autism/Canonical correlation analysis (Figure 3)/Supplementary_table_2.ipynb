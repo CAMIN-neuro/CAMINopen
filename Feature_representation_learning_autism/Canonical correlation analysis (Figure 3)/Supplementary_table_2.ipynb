{
 "cells": [
  {
   "cell_type": "markdown",
   "id": "e6a64b0e",
   "metadata": {},
   "source": [
    "## Import lib"
   ]
  },
  {
   "cell_type": "code",
   "execution_count": 1,
   "id": "db2198e9",
   "metadata": {},
   "outputs": [],
   "source": [
    "import os\n",
    "from scipy import io\n",
    "import numpy as np\n",
    "import pandas as pd\n",
    "from scipy.stats import zscore, spearmanr\n",
    "from sklearn.model_selection import KFold\n",
    "from sklearn.model_selection import train_test_split\n",
    "from  statsmodels.stats import multitest\n",
    "import matplotlib.pyplot as plt\n",
    "from matplotlib.cm import get_cmap\n",
    "import seaborn as sns\n",
    "from math import pi\n",
    "import networkx as nx\n",
    "import rcca\n",
    "import matplotlib.cm as cm\n",
    "import matplotlib as mpl\n",
    "from sklearn.linear_model import LinearRegression"
   ]
  },
  {
   "cell_type": "code",
   "execution_count": 2,
   "id": "f07320bc",
   "metadata": {
    "scrolled": true
   },
   "outputs": [
    {
     "name": "stderr",
     "output_type": "stream",
     "text": [
      "/home/yrjang/.local/lib/python3.8/site-packages/nxviz/__init__.py:18: UserWarning: \n",
      "nxviz has a new API! Version 0.7.4 onwards, the old class-based API is being\n",
      "deprecated in favour of a new API focused on advancing a grammar of network\n",
      "graphics. If your plotting code depends on the old API, please consider\n",
      "pinning nxviz at version 0.7.4, as the new API will break your old code.\n",
      "\n",
      "To check out the new API, please head over to the docs at\n",
      "https://ericmjl.github.io/nxviz/ to learn more. We hope you enjoy using it!\n",
      "\n",
      "(This deprecation message will go away in version 1.0.)\n",
      "\n",
      "  warnings.warn(\n"
     ]
    }
   ],
   "source": [
    "import nxviz as nv\n",
    "from nxviz import utils"
   ]
  },
  {
   "cell_type": "code",
   "execution_count": 3,
   "id": "735b5291",
   "metadata": {
    "scrolled": true
   },
   "outputs": [
    {
     "ename": "ImportError",
     "evalue": "cannot import name 'CircosPlot' from 'nxviz.plots' (/home/yrjang/.local/lib/python3.8/site-packages/nxviz/plots.py)",
     "output_type": "error",
     "traceback": [
      "\u001b[0;31m---------------------------------------------------------------------------\u001b[0m",
      "\u001b[0;31mImportError\u001b[0m                               Traceback (most recent call last)",
      "\u001b[0;32m<ipython-input-3-27b0f303ca47>\u001b[0m in \u001b[0;36m<module>\u001b[0;34m\u001b[0m\n\u001b[0;32m----> 1\u001b[0;31m \u001b[0;32mfrom\u001b[0m \u001b[0mnxviz\u001b[0m\u001b[0;34m.\u001b[0m\u001b[0mplots\u001b[0m \u001b[0;32mimport\u001b[0m \u001b[0mCircosPlot\u001b[0m\u001b[0;34m\u001b[0m\u001b[0;34m\u001b[0m\u001b[0m\n\u001b[0m",
      "\u001b[0;31mImportError\u001b[0m: cannot import name 'CircosPlot' from 'nxviz.plots' (/home/yrjang/.local/lib/python3.8/site-packages/nxviz/plots.py)"
     ]
    }
   ],
   "source": [
    "from nxviz.plots import CircosPlot"
   ]
  },
  {
   "cell_type": "code",
   "execution_count": 4,
   "id": "d3b70db5",
   "metadata": {},
   "outputs": [],
   "source": [
    "path = '/camin1/yrjang/Autism classification/abide2/diff/Schaefer_200/'\n",
    "file_list=os.listdir(path)\n",
    "file_list_py=[file for file in file_list if file.endswith('_DC.mat')]\n",
    "conZ_1r=[]\n",
    "for i in file_list_py:\n",
    "    mat_file=io.loadmat(path+i)\n",
    "    connmat=mat_file['diff_ConnMat']\n",
    "    conZ_1r.append(connmat)\n",
    "conZ_1r=np.array(conZ_1r)\n",
    "\n",
    "file=pd.read_excel('/camin1/yrjang/Autism classification/abide2/subjects.xlsx' )"
   ]
  },
  {
   "cell_type": "code",
   "execution_count": 5,
   "id": "d3e75e28",
   "metadata": {},
   "outputs": [],
   "source": [
    "\n",
    "\n",
    "# Age & Site & Sex control\n",
    "grp = file['Gk_II'].values\n",
    "age = file['Ak_II'].values\n",
    "sex = file['GENDER_II'].values\n",
    "site = file['Sk_II'].values\n",
    "\n",
    "grp_ = np.where(grp=='ASD', 1, grp)\n",
    "grp_ = np.where(grp_=='CONTROL', 2, grp_)\n",
    "grp = grp_.astype('int64')\n",
    "\n",
    "sex_ = np.where(sex=='M', 1, sex)\n",
    "sex_ = np.where(sex_=='F', 2, sex_)\n",
    "sex = sex_.astype('int64')\n",
    "\n",
    "site_ = np.where(site=='TCD', 1, site)\n",
    "site_ = np.where(site_=='NYU', 2, site_)\n",
    "site = site_.astype('int64')\n",
    "\n",
    "NumSubj = np.size(grp)\n",
    "\n",
    "NumROI=200\n",
    "ConnMatZ2 = np.zeros((np.size(file_list_py), NumROI,NumROI))\n",
    "ConnMatZ2_reg = np.zeros((np.size(file_list_py), NumROI,NumROI))\n",
    "\n",
    "for nr1 in range(0,NumROI):\n",
    "    for nr2 in range(0,NumROI):\n",
    "        x = np.transpose([age, sex,site])\n",
    "        y = np.expand_dims(conZ_1r[:,nr1,nr2], axis=1)\n",
    "        lm = LinearRegression()\n",
    "        lm.fit(x,y)\n",
    "        ConnMatZ2_reg[:,nr1,nr2] = np.squeeze(y - lm.predict(x))\n",
    "\n",
    "feat2=ConnMatZ2_reg\n",
    "\n",
    "#Flatten\n",
    "hemi=[]\n",
    "hemi2=[]\n",
    "for num in range(0,84):\n",
    "    for Left in range(0,100):\n",
    "        if i == 99:\n",
    "            break\n",
    "        for j in range (0+Left,99):\n",
    "            hemi.append(feat2[num][Left][j+1])\n",
    "    for right in range (100,200):\n",
    "        if i == 199:\n",
    "            break\n",
    "        for r in range (100+(right-100),199):\n",
    "            hemi.append(feat2[num][right][r+1])\n",
    "    hemi2.append(hemi)\n",
    "    hemi=[]\n",
    "x=np.array(hemi2)\n",
    "df_con1=[x[i] for i in range(0,84)]\n",
    "\n",
    "file['data']=df_con1"
   ]
  },
  {
   "cell_type": "code",
   "execution_count": 11,
   "id": "4deab7a9",
   "metadata": {},
   "outputs": [],
   "source": [
    "file_asd = file[file['Gk_II'] == 'ASD']\n",
    "file_con = file[file['Gk_II'] == 'CONTROL']"
   ]
  },
  {
   "cell_type": "code",
   "execution_count": 12,
   "id": "67355cd4",
   "metadata": {},
   "outputs": [],
   "source": [
    "asd_IG = file_asd['data'].values\n",
    "con_IG = file_con['data'].values"
   ]
  },
  {
   "cell_type": "code",
   "execution_count": 13,
   "id": "05a7caf6",
   "metadata": {},
   "outputs": [],
   "source": [
    "# prepare data\n",
    "ados_t = np.array(file_asd[\"ADOS_T_II\"])\n",
    "ados_s = np.array(file_asd[\"ADOS_S_II\"])\n",
    "ados_c = np.array(file_asd[\"ADOS_C_II\"])\n",
    "ados_r = np.array(file_asd[\"ADOS_R_II\"])\n",
    "\n",
    "# exclude -999\n",
    "ados_999_key = []\n",
    "for i in range(np.shape(file_asd)[0]):\n",
    "    if ados_t[i] == -999:\n",
    "        ados_999_key.append(i)\n",
    "\n",
    "asd_IG= np.delete(asd_IG,ados_999_key,0)\n",
    "ados_t= np.delete(ados_t,ados_999_key)\n",
    "ados_s= np.delete(ados_s,ados_999_key)\n",
    "ados_c= np.delete(ados_c,ados_999_key)\n",
    "ados_r= np.delete(ados_r,ados_999_key)\n",
    "ados=np.transpose(np.vstack((ados_t,ados_s,ados_c,ados_r)))"
   ]
  },
  {
   "cell_type": "code",
   "execution_count": 14,
   "id": "2b7c0bc9",
   "metadata": {},
   "outputs": [],
   "source": [
    "asd_IG = np.vstack(asd_IG)"
   ]
  },
  {
   "cell_type": "markdown",
   "id": "d573dbf9",
   "metadata": {},
   "source": [
    "## Find optimal parameter"
   ]
  },
  {
   "cell_type": "code",
   "execution_count": 15,
   "id": "155bb577",
   "metadata": {},
   "outputs": [],
   "source": [
    "# CCA\n",
    "import rcca\n",
    "\n",
    "# X = zscore(asd_IG_sig, axis=1)\n",
    "X = zscore(asd_IG, axis=1)\n",
    "Y = ados\n",
    "fold_k = 5\n",
    "\n",
    "# identify optimal number of components and regularization parameter using all data\n",
    "# !! REPEAT multiple times & select the most frequently observed result\n",
    "# !! Empirically, ncomp >= 3, reg = 0.001 showed reasonable (best?) results\n",
    "cca_cv = rcca.CCACrossValidate(kernelcca=True,ktype='linear',\n",
    "    regs=[1e-4,1e-3,1e-2,1e-1],\n",
    "    numCCs=range(1,11),\n",
    "    numCV=fold_k, select=0.2)\n",
    "cca_cv.train([X, Y])\n",
    "ncomp = cca_cv.best_numCC\n",
    "reg = cca_cv.best_reg\n"
   ]
  },
  {
   "cell_type": "markdown",
   "id": "7edcec68",
   "metadata": {},
   "source": [
    "## Evaluate correlation & variance"
   ]
  },
  {
   "cell_type": "code",
   "execution_count": 16,
   "id": "dd009e80",
   "metadata": {},
   "outputs": [
    {
     "name": "stdout",
     "output_type": "stream",
     "text": [
      "k = 0\n",
      "k = 1\n",
      "k = 2\n",
      "k = 3\n",
      "k = 4\n"
     ]
    }
   ],
   "source": [
    "cca_corr = np.zeros([fold_k, ncomp])\n",
    "cca_testcorr = [np.zeros([fold_k, np.shape(X)[1]]),\n",
    "                np.zeros([fold_k, np.shape(Y)[1]])]\n",
    "cca_ev = [np.zeros([fold_k, ncomp, np.shape(X)[1]]),\n",
    "          np.zeros([fold_k, ncomp, np.shape(Y)[1]])]\n",
    "cca_ws = [np.zeros([fold_k, np.shape(X)[1], ncomp]),\n",
    "          np.zeros([fold_k, np.shape(Y)[1], ncomp])]\n",
    "kf = KFold(n_splits=fold_k, shuffle=True, random_state=0)\n",
    "for k, (train_index, test_index) in enumerate(kf.split(X)):\n",
    "    print(\"k = \" + str(k))\n",
    "\n",
    "    X_train, X_test = X[train_index], X[test_index]\n",
    "    Y_train, Y_test = Y[train_index], Y[test_index]\n",
    "\n",
    "    cca = rcca.CCA(reg=reg, numCC=ncomp, verbose=False)\n",
    "    cca.train([X_train, Y_train])\n",
    "    cca.validate([X_test, Y_test])\n",
    "    cca.compute_ev([X_test, Y_test])\n",
    "\n",
    "    cca_corr[k,:] = cca.cancorrs\n",
    "    cca_testcorr[0][k,:] = cca.corrs[0]     # test corr X\n",
    "    cca_testcorr[1][k, :] = cca.corrs[1]\n",
    "    cca_ev[0][k,:,:] = cca.ev[0]  # explained variance X\n",
    "    cca_ev[1][k,:,:] = cca.ev[1]  #\n",
    "    cca_ws[0][k,:,:] = cca.ws[0]  # canonical weights X\n",
    "    cca_ws[1][k,:,:] = cca.ws[1]\n"
   ]
  },
  {
   "cell_type": "markdown",
   "id": "f95a4807",
   "metadata": {},
   "source": [
    "## Correlation_spearman & FDR"
   ]
  },
  {
   "cell_type": "code",
   "execution_count": 17,
   "id": "e16b48a9",
   "metadata": {
    "scrolled": false
   },
   "outputs": [
    {
     "name": "stdout",
     "output_type": "stream",
     "text": [
      "Mean/SD cca corr:\n",
      "[ 5.61391470e-01  4.84401734e-01  4.33749836e-01 -4.02398715e-04\n",
      "  5.25696562e-02]\n",
      "[0.09023612 0.04248568 0.05108477 0.02908024 0.08934811]\n",
      "FDR:\n",
      "[0.00955371 0.0184981  0.03578661 0.90835478 0.78477002]\n"
     ]
    }
   ],
   "source": [
    "# correlation plot\n",
    "rp_tot = np.zeros([fold_k, ncomp, 3])   # 3: rho/p/fdr\n",
    "for k, (train_index, test_index) in enumerate(kf.split(X)):\n",
    "    X_train, X_test = X[train_index], X[test_index]\n",
    "    Y_train, Y_test = Y[train_index], Y[test_index]\n",
    "\n",
    "    CX = np.matmul(X_train, cca_ws[0][k, :, :])\n",
    "    CY = np.matmul(Y_train, cca_ws[1][k, :, :])\n",
    "\n",
    "    rp = np.zeros([ncomp,3])  # rho, p, fdr\n",
    "    for nc in range(ncomp):\n",
    "        [rho,p] = spearmanr(CX[:,nc],CY[:,nc])\n",
    "        rp[nc,0] = rho\n",
    "        rp[nc,1] = p\n",
    "    rp[:,2] = multitest.fdrcorrection(rp[:,1])[1]\n",
    "    rp_tot[k,:,:] = rp\n",
    "\n",
    "# print(\"Mean/SD cca corr:\")\n",
    "# print(np.mean(cca_corr,axis=0))\n",
    "# print(np.std(cca_corr,axis=0))\n",
    "print(\"Mean/SD cca corr:\")\n",
    "print(np.mean(rp_tot,axis=0)[:,0])\n",
    "print(np.std(rp_tot,axis=0)[:,0])\n",
    "print(\"FDR:\")\n",
    "print(np.mean(rp_tot,axis=0)[:,2])\n",
    "## we can report only significant component ##\n",
    "\n",
    "# contribution\n",
    "evX = np.mean(cca_ev[0], axis=0)\n",
    "evY = np.mean(cca_ev[1], axis=0)\n"
   ]
  },
  {
   "cell_type": "code",
   "execution_count": 29,
   "id": "be11a1f3",
   "metadata": {},
   "outputs": [
    {
     "data": {
      "text/plain": [
       "array([[ 0.55398615,  0.00122333,  0.00611663],\n",
       "       [ 0.47285594,  0.00722365,  0.01805912],\n",
       "       [ 0.41695279,  0.0196217 ,  0.03270284],\n",
       "       [ 0.01170535,  0.95016749,  0.95016749],\n",
       "       [-0.06437945,  0.73078866,  0.91348583]])"
      ]
     },
     "execution_count": 29,
     "metadata": {},
     "output_type": "execute_result"
    }
   ],
   "source": [
    "rp"
   ]
  },
  {
   "cell_type": "code",
   "execution_count": 31,
   "id": "a7830314",
   "metadata": {},
   "outputs": [
    {
     "data": {
      "text/plain": [
       "array([0.00323998, 0.0081447 , 0.02105212, 0.88878563, 0.70048295])"
      ]
     },
     "execution_count": 31,
     "metadata": {},
     "output_type": "execute_result"
    }
   ],
   "source": [
    "np.mean(rp_tot,axis=0)[:,1]"
   ]
  },
  {
   "cell_type": "code",
   "execution_count": 28,
   "id": "9b4a04c2",
   "metadata": {},
   "outputs": [
    {
     "data": {
      "text/plain": [
       "0.433749836"
      ]
     },
     "execution_count": 28,
     "metadata": {},
     "output_type": "execute_result"
    }
   ],
   "source": [
    "4.33749836e-01"
   ]
  },
  {
   "cell_type": "code",
   "execution_count": 12,
   "id": "3332d046",
   "metadata": {},
   "outputs": [],
   "source": [
    "np.save('CX.npy',CX)\n",
    "np.save('CY.npy',CY)\n",
    "np.save('evX.npy',evX)\n",
    "np.save('evY.npy',evY)"
   ]
  },
  {
   "cell_type": "code",
   "execution_count": 3,
   "id": "e76d51be",
   "metadata": {},
   "outputs": [],
   "source": [
    "CX = np.load('C:/Users/aemij/Machine learning/figure3_npy_file/CX.npy')\n",
    "CY = np.load(\"C:/Users/aemij/Machine learning/figure3_npy_file/CY.npy\")\n",
    "evX = np.load(\"C:/Users/aemij/Machine learning/figure3_npy_file/evX.npy\")\n",
    "evY = np.load(\"C:/Users/aemij/Machine learning/figure3_npy_file/evY.npy\")"
   ]
  },
  {
   "cell_type": "code",
   "execution_count": 38,
   "id": "17396727",
   "metadata": {},
   "outputs": [],
   "source": [
    "CX_  = np.load('CX.npy')"
   ]
  },
  {
   "cell_type": "code",
   "execution_count": 39,
   "id": "89f2910b",
   "metadata": {},
   "outputs": [
    {
     "data": {
      "text/plain": [
       "(31, 4)"
      ]
     },
     "execution_count": 39,
     "metadata": {},
     "output_type": "execute_result"
    }
   ],
   "source": [
    "CX_.shape"
   ]
  },
  {
   "cell_type": "markdown",
   "id": "9343a967",
   "metadata": {},
   "source": [
    "### 1st plot"
   ]
  },
  {
   "cell_type": "code",
   "execution_count": 32,
   "id": "1814edf7",
   "metadata": {},
   "outputs": [
    {
     "data": {
      "image/png": "[encoded data removed]",
      "text/plain": [
       "<Figure size 432x288 with 1 Axes>"
      ]
     },
     "metadata": {
      "needs_background": "light"
     },
     "output_type": "display_data"
    }
   ],
   "source": [
    "ax = plt.scatter(x=CX[:,0], y=CY[:,0])\n",
    "#plt.title(\"1st component\")\n",
    "#plt.xlabel(\"Canonical X\")\n",
    "#plt.ylabel(\"Canonical Y\")\n",
    "sns.regplot(x=CX[:,0], y=CY[:,0])\n",
    "#ax.get_xaxis().set_visible(False)\n",
    "plt.show()"
   ]
  },
  {
   "cell_type": "markdown",
   "id": "725172fd",
   "metadata": {},
   "source": [
    "### 2nd plot"
   ]
  },
  {
   "cell_type": "code",
   "execution_count": 33,
   "id": "c449b840",
   "metadata": {},
   "outputs": [
    {
     "data": {
      "image/png": "[encoded data removed]",
      "text/plain": [
       "<Figure size 432x288 with 1 Axes>"
      ]
     },
     "metadata": {
      "needs_background": "light"
     },
     "output_type": "display_data"
    }
   ],
   "source": [
    "plt.scatter(x=CX[:,1], y=CY[:,1])\n",
    "#plt.title(\"2nd component\")\n",
    "#plt.xlabel(\"Canonical X\")\n",
    "#plt.ylabel(\"Canonical Y\")\n",
    "sns.regplot(x=CX[:,1], y=CY[:,1])\n",
    "plt.show()"
   ]
  },
  {
   "cell_type": "markdown",
   "id": "6febc7e5",
   "metadata": {},
   "source": [
    "### 3rd plot"
   ]
  },
  {
   "cell_type": "code",
   "execution_count": 34,
   "id": "5a65ef00",
   "metadata": {},
   "outputs": [
    {
     "data": {
      "image/png": "[encoded data removed]",
      "text/plain": [
       "<Figure size 432x288 with 1 Axes>"
      ]
     },
     "metadata": {
      "needs_background": "light"
     },
     "output_type": "display_data"
    }
   ],
   "source": [
    "plt.scatter(x=CX[:,2], y=CY[:,2])\n",
    "#plt.title(\"3rd component\")\n",
    "#plt.xlabel(\"Canonical X\")\n",
    "#plt.ylabel(\"Canonical Y\")\n",
    "sns.regplot(x=CX[:,2], y=CY[:,2])\n",
    "plt.show()"
   ]
  },
  {
   "cell_type": "markdown",
   "id": "856cd6a5",
   "metadata": {},
   "source": [
    "## explained variance"
   ]
  },
  {
   "cell_type": "code",
   "execution_count": 35,
   "id": "a0ce334a",
   "metadata": {},
   "outputs": [],
   "source": [
    "# contribution\n",
    "evX = np.mean(cca_ev[0], axis=0)\n",
    "evY = np.mean(cca_ev[1], axis=0)"
   ]
  },
  {
   "cell_type": "code",
   "execution_count": 36,
   "id": "c8c70403",
   "metadata": {},
   "outputs": [
    {
     "data": {
      "text/plain": [
       "array([[0.59913795, 0.54039007, 0.55206857, ..., 0.59844468, 4.61551817,\n",
       "        0.64239451],\n",
       "       [0.56051726, 0.416082  , 0.45327441, ..., 0.59053139, 9.19540553,\n",
       "        0.6749356 ],\n",
       "       [0.6523935 , 0.44194559, 0.57145333, ..., 0.66159256, 6.70569748,\n",
       "        0.60532621],\n",
       "       [0.54252128, 0.3563102 , 0.53583325, ..., 0.68683919, 5.26587812,\n",
       "        0.67944094],\n",
       "       [0.56510784, 0.41906358, 0.59930165, ..., 0.70846112, 4.63941611,\n",
       "        0.64620655]])"
      ]
     },
     "execution_count": 36,
     "metadata": {},
     "output_type": "execute_result"
    }
   ],
   "source": [
    "evX"
   ]
  },
  {
   "cell_type": "code",
   "execution_count": 37,
   "id": "badf1c75",
   "metadata": {},
   "outputs": [
    {
     "data": {
      "text/plain": [
       "array([[0.21050868, 0.42377347, 0.74242508, 0.24261394],\n",
       "       [0.15687845, 0.26577209, 0.62990086, 0.31654616],\n",
       "       [0.15491184, 0.38075843, 0.418784  , 0.32651049],\n",
       "       [0.23562189, 0.33126424, 0.82234182, 0.4314348 ],\n",
       "       [0.17896336, 0.27237101, 0.85468298, 0.34966954]])"
      ]
     },
     "execution_count": 37,
     "metadata": {},
     "output_type": "execute_result"
    }
   ],
   "source": [
    "evY"
   ]
  },
  {
   "cell_type": "markdown",
   "id": "9fccd0bf",
   "metadata": {},
   "source": [
    "### ADOS"
   ]
  },
  {
   "cell_type": "markdown",
   "id": "e9dcabb5",
   "metadata": {},
   "source": [
    "#### ADOS_1st comp"
   ]
  },
  {
   "cell_type": "code",
   "execution_count": 38,
   "id": "a5e3fdf2",
   "metadata": {},
   "outputs": [],
   "source": [
    "#color 설정\n",
    "cmap = cm.RdBu_r\n",
    "\n",
    "## 2단계 최대값과 최소값 결정\n",
    "vmax = 1.2\n",
    "vmin = 0\n",
    "norm = mpl.colors.Normalize(vmin=vmin, vmax=vmax)\n",
    "\n",
    "## 컬러바 생성\n",
    "colormapping = cm.ScalarMappable(norm=norm, cmap=cmap)"
   ]
  },
  {
   "cell_type": "code",
   "execution_count": 39,
   "id": "675304bd",
   "metadata": {},
   "outputs": [
    {
     "data": {
      "image/png": "[encoded data removed]",
      "text/plain": [
       "<Figure size 432x288 with 1 Axes>"
      ]
     },
     "metadata": {
      "needs_background": "light"
     },
     "output_type": "display_data"
    }
   ],
   "source": [
    "\n",
    "#plot 생성\n",
    "circle_center_t = (0, 1) # 원의 중심\n",
    "circle_center_s = (-2, -1)\n",
    "circle_center_c = (0, -1)\n",
    "circle_center_r = (2, -1)\n",
    "\n",
    "circle_radius_t = evY[0][0]    # 원의 반지름\n",
    "circle_radius_s = evY[0][1]\n",
    "circle_radius_c = evY[0][2]\n",
    "circle_radius_r = evY[0][3]\n",
    "\n",
    "# 원의 객체 c 생성 (색채우기: 흰색, 둘레: 파란색)\n",
    "c_t = plt.Circle(circle_center_t, circle_radius_t, color=cmap(norm(circle_radius_t)))\n",
    "c_s = plt.Circle(circle_center_s, circle_radius_s, color=cmap(norm(circle_radius_s)))\n",
    "c_c = plt.Circle(circle_center_c, circle_radius_c, color=cmap(norm(circle_radius_c)))\n",
    "c_r = plt.Circle(circle_center_r, circle_radius_r, color=cmap(norm(circle_radius_r)))\n",
    "\n",
    "# 축 설정\n",
    "a = plt.axes(xlim=(-4, 4), ylim=(-3, 2))\n",
    "a.add_patch(c_t)         # 원의 객체 c를 패치\n",
    "a.add_patch(c_s) \n",
    "a.add_patch(c_c) \n",
    "a.add_patch(c_r) \n",
    "\n",
    "#cbar = plt.colorbar(colormapping, ax=plt.gca())\n",
    "a.set_aspect('equal')  # X, Y축 1:1 비율로 설정\n",
    "#plt.title(\"1st compoent_ADOS\")\n",
    "plt.axis('off')\n",
    "\n",
    "plt.show() "
   ]
  },
  {
   "cell_type": "markdown",
   "id": "3217fd41",
   "metadata": {},
   "source": [
    "#### ADOS_2nd comp"
   ]
  },
  {
   "cell_type": "code",
   "execution_count": 40,
   "id": "04c5c113",
   "metadata": {},
   "outputs": [
    {
     "data": {
      "image/png": "[encoded data removed]",
      "text/plain": [
       "<Figure size 432x288 with 1 Axes>"
      ]
     },
     "metadata": {
      "needs_background": "light"
     },
     "output_type": "display_data"
    }
   ],
   "source": [
    "circle_center_t = (0, 1) # 원의 중심\n",
    "circle_center_s = (-2, -1)\n",
    "circle_center_c = (0, -1)\n",
    "circle_center_r = (2, -1)\n",
    "\n",
    "circle_radius_t = evY[1][0]    # 원의 반지름\n",
    "circle_radius_s = evY[1][1]\n",
    "circle_radius_c = evY[1][2]\n",
    "circle_radius_r = evY[1][3]\n",
    "\n",
    "# 원의 객체 c 생성 (색채우기: 흰색, 둘레: 파란색)\n",
    "c_t = plt.Circle(circle_center_t, circle_radius_t, color=cmap(norm(circle_radius_t)))\n",
    "c_s = plt.Circle(circle_center_s, circle_radius_s, color=cmap(norm(circle_radius_s)))\n",
    "c_c = plt.Circle(circle_center_c, circle_radius_c, color=cmap(norm(circle_radius_c)))\n",
    "c_r = plt.Circle(circle_center_r, circle_radius_r, color=cmap(norm(circle_radius_r)))\n",
    "\n",
    "# 축 설정\n",
    "a = plt.axes(xlim=(-4, 4), ylim=(-3, 2))\n",
    "a.add_patch(c_t)         # 원의 객체 c를 패치\n",
    "a.add_patch(c_s) \n",
    "a.add_patch(c_c) \n",
    "a.add_patch(c_r) \n",
    "\n",
    "#cbar = plt.colorbar(colormapping, ax=plt.gca())\n",
    "a.set_aspect('equal')  # X, Y축 1:1 비율로 설정\n",
    "#plt.title(\"2nd compoent_ADOS\")\n",
    "plt.axis('off')\n",
    "\n",
    "plt.show() "
   ]
  },
  {
   "cell_type": "markdown",
   "id": "b1944fa4",
   "metadata": {},
   "source": [
    "#### ADOS_3rd comp"
   ]
  },
  {
   "cell_type": "code",
   "execution_count": 41,
   "id": "3ca2c86d",
   "metadata": {},
   "outputs": [
    {
     "data": {
      "text/plain": [
       "array([0.21050868, 0.42377347, 0.74242508, 0.24261394])"
      ]
     },
     "execution_count": 41,
     "metadata": {},
     "output_type": "execute_result"
    }
   ],
   "source": [
    "evY[0]"
   ]
  },
  {
   "cell_type": "code",
   "execution_count": 42,
   "id": "7163e8e4",
   "metadata": {},
   "outputs": [
    {
     "data": {
      "image/png": "[encoded data removed]",
      "text/plain": [
       "<Figure size 432x288 with 1 Axes>"
      ]
     },
     "metadata": {
      "needs_background": "light"
     },
     "output_type": "display_data"
    }
   ],
   "source": [
    "circle_center_t = (0, 1) # 원의 중심\n",
    "circle_center_s = (-2, -1)\n",
    "circle_center_c = (0, -1)\n",
    "circle_center_r = (2, -1)\n",
    "\n",
    "circle_radius_t = evY[2][0]    # 원의 반지름\n",
    "circle_radius_s = evY[2][1]\n",
    "circle_radius_c = evY[2][2]\n",
    "circle_radius_r = evY[2][3]\n",
    "\n",
    "# 원의 객체 c 생성 (색채우기: 흰색, 둘레: 파란색)\n",
    "c_t = plt.Circle(circle_center_t, circle_radius_t, color=cmap(norm(circle_radius_t)))\n",
    "c_s = plt.Circle(circle_center_s, circle_radius_s, color=cmap(norm(circle_radius_s)))\n",
    "c_c = plt.Circle(circle_center_c, circle_radius_c, color=cmap(norm(circle_radius_c)))\n",
    "c_r = plt.Circle(circle_center_r, circle_radius_r, color=cmap(norm(circle_radius_r)))\n",
    "\n",
    "# 축 설정\n",
    "a = plt.axes(xlim=(-4, 4), ylim=(-3, 2))\n",
    "a.add_patch(c_t)         # 원의 객체 c를 패치\n",
    "a.add_patch(c_s) \n",
    "a.add_patch(c_c) \n",
    "a.add_patch(c_r) \n",
    "\n",
    "#cbar = plt.colorbar(colormapping, ax=plt.gca(),location='bottom')\n",
    "a.set_aspect('equal')  # X, Y축 1:1 비율로 설정\n",
    "#plt.title(\"3rd compoent_ADOS\")\n",
    "plt.axis('off')\n",
    "\n",
    "plt.show() "
   ]
  },
  {
   "cell_type": "code",
   "execution_count": 43,
   "id": "360ab9ff",
   "metadata": {},
   "outputs": [],
   "source": [
    "circle_radius_t = evY[2][0]    # 원의 반지름\n",
    "circle_radius_s = evY[2][1]\n",
    "circle_radius_c = evY[2][2]\n",
    "circle_radius_r = evY[2][3]"
   ]
  },
  {
   "cell_type": "code",
   "execution_count": 44,
   "id": "570b2957",
   "metadata": {},
   "outputs": [
    {
     "name": "stdout",
     "output_type": "stream",
     "text": [
      "0.1549118426554124\n",
      "0.3807584337388983\n",
      "0.4187840048609323\n",
      "0.32651048908003294\n"
     ]
    }
   ],
   "source": [
    "print(circle_radius_t)\n",
    "print(circle_radius_s)\n",
    "print(circle_radius_c)\n",
    "print(circle_radius_r)"
   ]
  }
 ],
 "metadata": {
  "kernelspec": {
   "display_name": "Python 3",
   "language": "python",
   "name": "python3"
  },
  "language_info": {
   "codemirror_mode": {
    "name": "ipython",
    "version": 3
   },
   "file_extension": ".py",
   "mimetype": "text/x-python",
   "name": "python",
   "nbconvert_exporter": "python",
   "pygments_lexer": "ipython3",
   "version": "3.8.8"
  },
  "toc": {
   "base_numbering": 1,
   "nav_menu": {},
   "number_sections": true,
   "sideBar": true,
   "skip_h1_title": false,
   "title_cell": "Table of Contents",
   "title_sidebar": "Contents",
   "toc_cell": false,
   "toc_position": {
    "height": "calc(100% - 180px)",
    "left": "10px",
    "top": "150px",
    "width": "219px"
   },
   "toc_section_display": true,
   "toc_window_display": true
  }
 },
 "nbformat": 4,
 "nbformat_minor": 5
}
