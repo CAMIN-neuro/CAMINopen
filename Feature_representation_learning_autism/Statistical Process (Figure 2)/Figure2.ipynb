{
 "cells": [
  {
   "cell_type": "code",
   "execution_count": null,
   "id": "f7b8c31d",
   "metadata": {},
   "outputs": [],
   "source": [
    "import numpy as np\n",
    "import pandas as pd\n",
    "from collections import defaultdict\n",
    "import networkx as nx\n",
    "from nxviz.plots import CircosPlot\n",
    "import operator\n",
    "from operator import itemgetter\n",
    "import pandas as pd\n",
    "from PIL import Image\n",
    "import networkx as nx\n",
    "from matplotlib import pyplot, patches,axes\n",
    "import matplotlib.pyplot as plt\n",
    "import os\n",
    "from collections import defaultdict\n",
    "from glob import glob\n",
    "import seaborn as sns"
   ]
  },
  {
   "cell_type": "markdown",
   "id": "95053909",
   "metadata": {},
   "source": [
    "- schaefer200 7 networks label"
   ]
  },
  {
   "cell_type": "code",
   "execution_count": null,
   "id": "1109849f",
   "metadata": {},
   "outputs": [],
   "source": [
    "label = []\n",
    "label.append(np.arange(0,14))\n",
    "label.append(np.arange(14,30))\n",
    "label.append(np.arange(30,43))\n",
    "label.append(np.arange(43,54))\n",
    "label.append(np.arange(54,60))\n",
    "label.append(np.arange(60,73))\n",
    "label.append(np.arange(73,100))\n",
    "label.append(np.arange(100,115))\n",
    "label.append(np.arange(115,134))\n",
    "label.append(np.arange(134,147))\n",
    "label.append(np.arange(147,158))\n",
    "label.append(np.arange(158,164))\n",
    "label.append(np.arange(164,181))\n",
    "label.append(np.arange(181,200))\n"
   ]
  },
  {
   "cell_type": "markdown",
   "id": "cbe53036",
   "metadata": {},
   "source": [
    "## load fdr_matrix"
   ]
  },
  {
   "cell_type": "code",
   "execution_count": null,
   "id": "66193a59",
   "metadata": {},
   "outputs": [],
   "source": [
    "fdr_matrix = np.load('fdr_matrix_normal.npy')"
   ]
  },
  {
   "cell_type": "markdown",
   "id": "22bc7aff",
   "metadata": {},
   "source": [
    "## Rearrange into 7 network (schaefer200)"
   ]
  },
  {
   "cell_type": "code",
   "execution_count": null,
   "id": "4ec40844",
   "metadata": {},
   "outputs": [],
   "source": [
    "Meanvalue_list_nor =[]\n",
    "num=[]\n",
    "mean_nor = fdr_matrix.copy()\n",
    "for row in range(0,14):\n",
    "    for col in range(0,14):\n",
    "        sumvalue = fdr_matrix[:,label[col]][label[row],:].mean()\n",
    "        mean_nor[label[col][0]:label[col][-1]+1,label[row][0]:label[row][-1]+1] = sumvalue\n",
    "        Meanvalue_list_nor.append(sumvalue)"
   ]
  },
  {
   "cell_type": "code",
   "execution_count": null,
   "id": "d8eac1f5",
   "metadata": {},
   "outputs": [],
   "source": [
    "mean_14 = []\n",
    "for i in range (0,14):\n",
    "    mean_14.append(Meanvalue_list_nor[i*14:i*14+14])"
   ]
  },
  {
   "cell_type": "code",
   "execution_count": null,
   "id": "6a5fb401",
   "metadata": {},
   "outputs": [],
   "source": [
    "plt.matshow(mean_14)\n",
    "plt.colorbar()"
   ]
  },
  {
   "cell_type": "code",
   "execution_count": null,
   "id": "f6721fc2",
   "metadata": {},
   "outputs": [],
   "source": [
    "mean_14_abs = np.abs(mean_14)\n",
    "plt.matshow(mean_14_abs,cmap='Reds')\n",
    "cb = plt.colorbar()\n",
    "cb.set_ticks([])\n",
    "ax = plt.gca()\n",
    "ax.axes.xaxis.set_visible(False)\n",
    "ax.axes.yaxis.set_visible(False)"
   ]
  },
  {
   "cell_type": "markdown",
   "id": "aa860783",
   "metadata": {},
   "source": [
    "### 14x14 to 7x7"
   ]
  },
  {
   "cell_type": "code",
   "execution_count": null,
   "id": "ffe4fc54",
   "metadata": {},
   "outputs": [],
   "source": [
    "plt.matshow(mean_14_abs,cmap='Reds')\n",
    "cb = plt.colorbar()\n",
    "cb.set_ticks([])\n",
    "ax = plt.gca()\n",
    "ax.axes.xaxis.set_visible(False)\n",
    "ax.axes.yaxis.set_visible(False)"
   ]
  },
  {
   "cell_type": "code",
   "execution_count": null,
   "id": "97a83f0b",
   "metadata": {},
   "outputs": [],
   "source": [
    "plt.matshow(IG_red ,cmap='Reds')\n",
    "cb = plt.colorbar()\n",
    "cb.set_ticks([])\n",
    "ax = plt.gca()\n",
    "ax.axes.xaxis.set_visible(False)\n",
    "ax.axes.yaxis.set_visible(False)"
   ]
  },
  {
   "cell_type": "markdown",
   "id": "6c760570",
   "metadata": {},
   "source": [
    "## Spider/circos plot"
   ]
  },
  {
   "cell_type": "markdown",
   "id": "2a7b2719",
   "metadata": {},
   "source": [
    "### spider plot"
   ]
  },
  {
   "cell_type": "code",
   "execution_count": null,
   "id": "c73651ac",
   "metadata": {},
   "outputs": [],
   "source": [
    "e_weight_mean = []\n",
    "for i in range(0,7):\n",
    "    e_weight_mean.append([x+y for x,y in zip (mean_14[i][i+1:7],mean_14[i+7][i+8:14])])"
   ]
  },
  {
   "cell_type": "code",
   "execution_count": null,
   "id": "dddf4a39",
   "metadata": {},
   "outputs": [],
   "source": [
    "from math import pi\n",
    " \n",
    "# Set data\n",
    "df_w = pd.DataFrame({\n",
    "'group': ['A'],\n",
    "'Visual': [(mean_14[0][0]+mean_14[7][7])/2],\n",
    "'Somat': [(mean_14[1][1]+mean_14[8][8])/2],\n",
    "'Dorsal': [(mean_14[2][2]+mean_14[9][9])/2],\n",
    "'Ventral': [(mean_14[3][3]+mean_14[10][10])/2],\n",
    "'Limbic': [(mean_14[4][4]+mean_14[11][11])/2],\n",
    "'Fronto': [(mean_14[5][5]+mean_14[12][12])/2],\n",
    "'Default': [(mean_14[6][6]+mean_14[13][13])/2]\n",
    "})\n",
    " \n",
    "# number of variable\n",
    "categories=list(df_w)[1:]\n",
    "N = len(categories)\n",
    " \n",
    "# We are going to plot the first line of the data frame.\n",
    "# But we need to repeat the first value to close the circular graph:\n",
    "values=df_w.loc[0].drop('group').values.flatten().tolist()\n",
    "values += values[:1]\n",
    "values\n",
    " \n",
    "# What will be the angle of each axis in the plot? (we divide the plot / number of variable)\n",
    "angles = [n / float(N) * 2 * pi for n in range(N)]\n",
    "angles += angles[:1]\n",
    " \n",
    "# Initialise the spider plot\n",
    "ax = plt.subplot(111, polar=True)\n",
    " \n",
    "# Draw one axe per variable + add labels\n",
    "plt.xticks(angles[:-1], categories, color='grey', size=10)\n",
    " \n",
    "# Draw ylabels\n",
    "ax.set_rlabel_position(0)\n",
    "plt.yticks([0,0.75,1.5], [\"0\",\"0.75\",\"1.5\"], color=\"grey\", size=10)\n",
    "plt.ylim(0,1.5)\n",
    " \n",
    "# Plot data\n",
    "ax.plot(angles,np.abs(values), linewidth=2.3, linestyle='solid')\n",
    "\n",
    "# Fill area\n",
    "#ax.fill(angles,np.abs(values), 'b', alpha=0.1)\n",
    "\n",
    "# Show the graph\n",
    "plt.show()"
   ]
  },
  {
   "cell_type": "markdown",
   "id": "c186788b",
   "metadata": {},
   "source": [
    "### Circos plot"
   ]
  },
  {
   "cell_type": "code",
   "execution_count": null,
   "id": "c66690aa",
   "metadata": {},
   "outputs": [],
   "source": [
    "G_node = np.array(df_w.columns[1:])\n",
    "G = nx.Graph()\n",
    "G.add_nodes_from(np.array([0,1,2,3,4,5,6]))"
   ]
  },
  {
   "cell_type": "code",
   "execution_count": null,
   "id": "258ecbce",
   "metadata": {},
   "outputs": [],
   "source": [
    "edges=[]\n",
    "for i in range(0,6):\n",
    "    for j in range(1+i,7):\n",
    "        print((G_node[i],G_node[j]),e_weight_mean[i][j-(i+1)])"
   ]
  },
  {
   "cell_type": "code",
   "execution_count": null,
   "id": "b4267e43",
   "metadata": {},
   "outputs": [],
   "source": [
    "numnode = np.array([0,1,2,3,4,5,6])"
   ]
  },
  {
   "cell_type": "code",
   "execution_count": null,
   "id": "eb0f8c77",
   "metadata": {},
   "outputs": [],
   "source": [
    "for i in range(0,6):\n",
    "    for j in range(i+1,7):\n",
    "        G.add_edge(numnode[i],numnode[j],weight = abs(e_weight_mean[i][j-(i+1)]/2))     "
   ]
  },
  {
   "cell_type": "code",
   "execution_count": null,
   "id": "0a491516",
   "metadata": {},
   "outputs": [],
   "source": [
    "width_weight = nx.get_edge_attributes(G,'weight')"
   ]
  },
  {
   "cell_type": "code",
   "execution_count": null,
   "id": "cdc59c51",
   "metadata": {},
   "outputs": [],
   "source": [
    "# Function to transform our list of brain areas into a dictionary\n",
    "def Convert(lst): \n",
    "    res_dct = {i : lst[i] for i in range(0, len(lst))} \n",
    "    return res_dct\n",
    "#linelist 지정\n",
    "lineList = ['Visual', 'Somat', 'Dorsal', 'Ventral', 'Limbic', 'Fronto', 'Default']\n",
    "\n",
    "# Obtaining a random list of numbers to simulate subnetworks -- THESE NUMBERS DO NOT CORRESPOND TO ANY REAL CLASSIFICATION\n",
    "sublist = ['Visual', 'Somatomotor', 'Dorsal attention', 'Ventral attention', 'Limbic', 'Frontoparietal', 'Default mode']\n",
    "\n",
    "# Obtaining a random list of colors that will match the random subnetwork classification for further graphs -- THESE COLORNAMES DO NOT CORRESPOND TO ANY REAL CLASSIFICATION\n",
    "colorlist = ['purple','blue','green','violet','cream','orange','red']\n",
    "color_hex = ['800080','0000FF','008000','EE82EE','FFFDD0','FFA500','FF0000']\n",
    "colornumbs = np.array([1,2,3,4,5,6,7])\n",
    "\n",
    "nodesize=np.array([1,1,1,1,1,1,1])"
   ]
  },
  {
   "cell_type": "code",
   "execution_count": null,
   "id": "5ef17916",
   "metadata": {},
   "outputs": [],
   "source": [
    "nx.set_node_attributes(G, dict(G.degree(weight='weight')), 'strength')\n",
    "nx.set_node_attributes(G, Convert(lineList), 'area')\n",
    "nx.set_node_attributes(G, Convert(colorlist), 'colorlist')\n",
    "nx.set_node_attributes(G, Convert(color_hex), 'colorcode')\n",
    "nx.set_node_attributes(G, Convert(sublist), 'subnet')\n",
    "# Add node color numbers\n",
    "nx.set_node_attributes(G, Convert(colornumbs), 'colornumb')\n",
    "nx.set_node_attributes(G, Convert(nodesize), 'nodesize')\n",
    "nx.set_edge_attributes(G,G_edge_degree,'edge_width' )"
   ]
  },
  {
   "cell_type": "code",
   "execution_count": null,
   "id": "114aa1ae",
   "metadata": {},
   "outputs": [],
   "source": [
    "G_distance_dict2 = {(e1, e2): 1 / abs(weight) for e1, e2, weight in G.edges(data='weight')}"
   ]
  },
  {
   "cell_type": "code",
   "execution_count": null,
   "id": "a58a9f3e",
   "metadata": {},
   "outputs": [],
   "source": [
    "# Computation of nodal degree/strength\n",
    "\n",
    "strength = G.degree(weight='weight')\n",
    "strengths = {node: val for (node, val) in strength}\n",
    "nx.set_node_attributes(G, dict(strength), 'strength') # Add as nodal attribute\n",
    "\n",
    "# Normalized node strength values 1/N-1\n",
    "normstrenghts = {node: val * 1/(len(G.nodes)-1) for (node, val) in strength}\n",
    "nx.set_node_attributes(G, normstrenghts, 'strengthnorm') # Add as nodal attribute\n",
    "\n",
    "# Computing the mean degree of the network\n",
    "normstrengthlist = np.array([val * 1/(len(G.nodes)-1) for (node, val) in strength])"
   ]
  },
  {
   "cell_type": "code",
   "execution_count": null,
   "id": "0ac5737b",
   "metadata": {},
   "outputs": [],
   "source": [
    "G_distance_dict2_ = {(e1, e2): 1 / abs(weight) for e1, e2, weight in G.edges(data='weight')}\n",
    "\n",
    "# Then add them as attributes to the graph\n",
    "nx.set_edge_attributes(G, G_distance_dict2_, 'distance')\n",
    "\n",
    "st50GRL = nx.relabel_nodes(G, {i: lineList[i] for i in range(len(lineList))})\n",
    "\n",
    "# CircosPlot\n",
    "circ = CircosPlot(st50GRL, figsize=(15,15), node_labels=False,\n",
    "                   \n",
    "                   edge_color = 'weight',edge_width='edge_width',node_label_layout='rotation' ,\n",
    "                  node_color='colorlist', node_label_color=True, fontsize=20, \n",
    "                  nodeprops={\"radius\": 0.0015}, group_legend=True, group_label_offset=5)\n",
    "\n",
    "circ.draw()\n",
    "\n",
    "circ.sm.colorbar.remove()\n",
    "labels_networks = list(set([list(circ.graph.nodes.values())[n][circ.node_color] \n",
    "                                  for n in np.arange(len(circ.nodes))]))\n",
    "labels_networks_ = [list(circ.graph.nodes.values())[n][circ.node_color] for n in np.arange(len(circ.nodes))]\n",
    "\n",
    "#labels_networks.reverse()\n",
    "#list(reversed(circ.legend_handles)\n",
    "\n",
    "plt.legend(handles=circ.legend_handles,\n",
    "   \n",
    "           ncol=1,\n",
    "           borderpad=1,\n",
    "           shadow=True,\n",
    "           fancybox=True,\n",
    "           loc='best',\n",
    "           fontsize=10,\n",
    "           labels= sublist)\n",
    "\n",
    "plt.legend('')\n",
    "plt.show()"
   ]
  },
  {
   "cell_type": "markdown",
   "id": "22f3f202",
   "metadata": {},
   "source": [
    "## Drawing IG_matrix "
   ]
  },
  {
   "cell_type": "markdown",
   "id": "ac69485d",
   "metadata": {},
   "source": [
    "### asd_IG"
   ]
  },
  {
   "cell_type": "code",
   "execution_count": null,
   "id": "8763fd29",
   "metadata": {},
   "outputs": [],
   "source": [
    "asd_IG= np.load(\"asd_IG_mean(matrix).npy\")"
   ]
  },
  {
   "cell_type": "code",
   "execution_count": null,
   "id": "a69ddf31",
   "metadata": {},
   "outputs": [],
   "source": [
    "for i in range(0,200):\n",
    "    for j in range (0,200):\n",
    "        if asd_IG[i][j] == 0:\n",
    "            asd_IG[i][j] = np.nan"
   ]
  },
  {
   "cell_type": "code",
   "execution_count": null,
   "id": "6fde26be",
   "metadata": {},
   "outputs": [],
   "source": [
    "IG_sumvalue_list =[]\n",
    "IGmean = asd_IG_original.copy()\n",
    "for row in range(0,14):\n",
    "    for col in range(0,14):\n",
    "        IG_sumvalue = asd_IG_original[:,label[col]][label[row],:].mean()\n",
    "        IGmean[label[col][0]:label[col][-1]+1,label[row][0]:label[row][-1]+1] = IG_sumvalue\n",
    "        IG_sumvalue_list.append(IG_sumvalue)"
   ]
  },
  {
   "cell_type": "code",
   "execution_count": null,
   "id": "64c1dd3e",
   "metadata": {},
   "outputs": [],
   "source": [
    "IG_whole_14 = []\n",
    "for i in range (0,14):\n",
    "    IG_whole_14.append(IG_sumvalue_list[i*14:i*14+14]) "
   ]
  },
  {
   "cell_type": "code",
   "execution_count": null,
   "id": "a7fe87ea",
   "metadata": {},
   "outputs": [],
   "source": [
    "for i in range(0,14):\n",
    "    for j in range (0,14):\n",
    "        if IG_whole_14 [i][j] == 0:\n",
    "            IG_whole_14 [i][j] = np.nan"
   ]
  },
  {
   "cell_type": "code",
   "execution_count": null,
   "id": "7b1638e3",
   "metadata": {},
   "outputs": [],
   "source": [
    "IG_seven = np.zeros((7,7))\n",
    "for i in range(7):\n",
    "    for j in range(7):\n",
    "        IG_seven[i][j] = (IG_whole_14[i][j]+IG_whole_14[i+7][j+7])/2"
   ]
  },
  {
   "cell_type": "code",
   "execution_count": null,
   "id": "cae5dfb6",
   "metadata": {},
   "outputs": [],
   "source": [
    "plt.matshow(IG_seven,vmin = -0.0001 , vmax = 0.0001)\n",
    "ax = plt.gca()\n",
    "ax.axes.xaxis.set_visible(False)\n",
    "ax.axes.yaxis.set_visible(False)"
   ]
  },
  {
   "cell_type": "markdown",
   "id": "594f60fd",
   "metadata": {},
   "source": [
    "### con_IG"
   ]
  },
  {
   "cell_type": "code",
   "execution_count": null,
   "id": "bbe02bfb",
   "metadata": {},
   "outputs": [],
   "source": [
    "con_IG = np.load(\"con_IG_mean(matrix).npy\")"
   ]
  },
  {
   "cell_type": "code",
   "execution_count": null,
   "id": "c67b0762",
   "metadata": {},
   "outputs": [],
   "source": [
    "IG_sumvalue_list_con =[]\n",
    "IGmean = con_IG.copy()\n",
    "for row in range(0,14):\n",
    "    for col in range(0,14):\n",
    "        IG_sumvalue = con_IG[:,label[col]][label[row],:].mean()\n",
    "        IGmean[label[col][0]:label[col][-1]+1,label[row][0]:label[row][-1]+1] = IG_sumvalue\n",
    "        IG_sumvalue_list_con.append(IG_sumvalue)"
   ]
  },
  {
   "cell_type": "code",
   "execution_count": null,
   "id": "16aa405c",
   "metadata": {},
   "outputs": [],
   "source": [
    "IG_whole_14_con = []\n",
    "for i in range (0,14):\n",
    "    IG_whole_14_con.append(IG_sumvalue_list_con[i*14:i*14+14]) "
   ]
  },
  {
   "cell_type": "code",
   "execution_count": null,
   "id": "8b035b41",
   "metadata": {},
   "outputs": [],
   "source": [
    "for i in range(0,14):\n",
    "    for j in range (0,14):\n",
    "        if IG_whole_14_con [i][j] == 0:\n",
    "            IG_whole_14_con [i][j] = np.nan"
   ]
  },
  {
   "cell_type": "code",
   "execution_count": null,
   "id": "37ab90a6",
   "metadata": {},
   "outputs": [],
   "source": [
    "IG_seven_con = np.zeros((7,7))\n",
    "for i in range(7):\n",
    "    for j in range(7):\n",
    "        IG_seven_con[i][j] = (IG_whole_14_con[i][j]+IG_whole_14_con[i+7][j+7])/2"
   ]
  },
  {
   "cell_type": "code",
   "execution_count": null,
   "id": "7d638a8c",
   "metadata": {},
   "outputs": [],
   "source": [
    "plt.matshow(IG_seven_con,vmin = -0.0001 , vmax = 0.0001)\n",
    "ax = plt.gca()\n",
    "ax.axes.xaxis.set_visible(False)\n",
    "ax.axes.yaxis.set_visible(False)"
   ]
  }
 ],
 "metadata": {
  "kernelspec": {
   "display_name": "Python 3 (ipykernel)",
   "language": "python",
   "name": "python3"
  },
  "language_info": {
   "codemirror_mode": {
    "name": "ipython",
    "version": 3
   },
   "file_extension": ".py",
   "mimetype": "text/x-python",
   "name": "python",
   "nbconvert_exporter": "python",
   "pygments_lexer": "ipython3",
   "version": "3.9.13"
  },
  "toc": {
   "base_numbering": 1,
   "nav_menu": {},
   "number_sections": true,
   "sideBar": true,
   "skip_h1_title": false,
   "title_cell": "Table of Contents",
   "title_sidebar": "Contents",
   "toc_cell": false,
   "toc_position": {},
   "toc_section_display": true,
   "toc_window_display": false
  }
 },
 "nbformat": 4,
 "nbformat_minor": 5
}
