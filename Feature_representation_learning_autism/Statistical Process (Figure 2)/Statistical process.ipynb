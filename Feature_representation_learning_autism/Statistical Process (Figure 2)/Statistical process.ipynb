{
 "cells": [
  {
   "cell_type": "markdown",
   "id": "6cdaf244",
   "metadata": {},
   "source": [
    "# Import "
   ]
  },
  {
   "cell_type": "code",
   "execution_count": null,
   "id": "ba29460d",
   "metadata": {},
   "outputs": [],
   "source": [
    "import os\n",
    "import skimage.io\n",
    "import skimage.transform\n",
    "from scipy import io\n",
    "import numpy as np\n",
    "import pandas as pd\n",
    "from scipy.stats import zscore\n",
    "from sklearn.linear_model import LinearRegression\n",
    "from captum.attr import IntegratedGradients, LRP, NeuronIntegratedGradients\n",
    "from sklearn.model_selection import train_test_split\n",
    "from tqdm import tqdm, tqdm_notebook\n",
    "from torch.utils.data import DataLoader\n",
    "import matplotlib.pyplot as plt\n",
    "from os.path import join\n",
    "import torch\n",
    "from torch import nn\n",
    "import ast\n",
    "from ast import literal_eval\n",
    "import enigmatoolbox.vtk_interface\n",
    "import statsmodels.api as sm"
   ]
  },
  {
   "cell_type": "markdown",
   "id": "3bb7a32c",
   "metadata": {},
   "source": [
    "# Load Integrated gradient values & Calculate Z-score"
   ]
  },
  {
   "cell_type": "markdown",
   "id": "508c3bce",
   "metadata": {},
   "source": [
    "## IG_Autism"
   ]
  },
  {
   "cell_type": "markdown",
   "id": "0a3ed6d2",
   "metadata": {},
   "source": [
    "### Load autism_IG"
   ]
  },
  {
   "cell_type": "code",
   "execution_count": null,
   "id": "31b5ff65",
   "metadata": {},
   "outputs": [],
   "source": [
    "asd_ig = np.load('asd_IG_467_1.npy')\n",
    "asd_ig_ = asd_ig.T"
   ]
  },
  {
   "cell_type": "markdown",
   "id": "d4c1813d",
   "metadata": {},
   "source": [
    "### Calculate Z-score"
   ]
  },
  {
   "cell_type": "code",
   "execution_count": null,
   "id": "22fa287f",
   "metadata": {},
   "outputs": [],
   "source": [
    "z = []\n",
    "z_matrix = []\n",
    "\n",
    "for i in range(0,47):\n",
    "    #z.append(asd_ig[i])\n",
    "    score = zscore(asd_ig[i])\n",
    "    z_matrix.append(score)\n",
    "    z=[]\n",
    "    \n",
    "z_matrix_asd = np.array(z_matrix)\n",
    "\n",
    "np.save('asd_zscore_normal(sub).npy',z_matrix_asd)"
   ]
  },
  {
   "cell_type": "markdown",
   "id": "14c3d0dd",
   "metadata": {},
   "source": [
    "## IG_Control"
   ]
  },
  {
   "cell_type": "markdown",
   "id": "f7e75c64",
   "metadata": {},
   "source": [
    "### Load Control_IG"
   ]
  },
  {
   "cell_type": "code",
   "execution_count": null,
   "id": "f1cbdd9a",
   "metadata": {},
   "outputs": [],
   "source": [
    "con_ig = np.load('con_IG_9900_420.npy')\n",
    "con_ig_ = con_ig.T"
   ]
  },
  {
   "cell_type": "markdown",
   "id": "802c8cd2",
   "metadata": {},
   "source": [
    "### Calculate Z-score"
   ]
  },
  {
   "cell_type": "code",
   "execution_count": null,
   "id": "8f53a6b0",
   "metadata": {},
   "outputs": [],
   "source": [
    "z = []\n",
    "z_matrix = []\n",
    "\n",
    "for i in range(0,37):\n",
    "    #z.append(asd_ig[i])\n",
    "    score = zscore(con_ig[i])\n",
    "    z_matrix.append(score)\n",
    "    z=[]\n",
    "    \n",
    "z_matrix_con = np.array(z_matrix)\n",
    "\n",
    "np.save('con_zscore_normal(sub).npy',z_matrix_con)"
   ]
  },
  {
   "cell_type": "markdown",
   "id": "97995173",
   "metadata": {},
   "source": [
    "### cf) Convert (,9900) to (200,200)"
   ]
  },
  {
   "cell_type": "code",
   "execution_count": null,
   "id": "e291fd2c",
   "metadata": {},
   "outputs": [],
   "source": [
    "def convert_dimension(asd_IG):\n",
    "    \n",
    "    fdr_200 = np.array(asd_IG)\n",
    "    fdr_200_matrix = np.zeros((200, 200))\n",
    "    matrix_200 = np.zeros((200, 200))\n",
    "    for k in range(0, 100):\n",
    "        if k == 99 or k == 199:\n",
    "            fdr_200_matrix[k][k] = 0\n",
    "        else:\n",
    "            a = 4950 - ((99 - k) * (100 - k)) / 2\n",
    "            a = int(a)\n",
    "            change_matrix = fdr_200[0][a:a + (99 - k)]\n",
    "            for n in range(0, 99):\n",
    "                if n == 99 - (k):\n",
    "                    break\n",
    "                else:\n",
    "                    fdr_200_matrix[k][k + n + 1] = change_matrix[n]\n",
    "            for n in range(0, 99):\n",
    "                if k == n:\n",
    "                    fdr_200_matrix[k][k] = 0\n",
    "    for k in range(100, 200):\n",
    "        if k == 99 or k == 199:\n",
    "            fdr_200_matrix[k][k] = 0\n",
    "        else:\n",
    "            a = 4950 * 2 - ((99 - (k - 100)) * (100 - (k - 100))) / 2\n",
    "            a = int(a)\n",
    "            change_matrix = fdr_200[0][a:a + (99 - (k - 100))]\n",
    "            for n in range(0, 99):\n",
    "                if n == 99 - (k - 100):\n",
    "                    break\n",
    "                else:\n",
    "                    fdr_200_matrix[k][k + n + 1] = change_matrix[n]\n",
    "            for n in range(100, 199):\n",
    "                if k == n:\n",
    "                    fdr_200_matrix[k][k] = 0\n",
    "    matrix_200 = fdr_200_matrix.T + fdr_200_matrix\n",
    "    return matrix_200"
   ]
  },
  {
   "cell_type": "markdown",
   "id": "a642659d",
   "metadata": {},
   "source": [
    "#### convert_autism"
   ]
  },
  {
   "cell_type": "code",
   "execution_count": null,
   "id": "c940afe9",
   "metadata": {},
   "outputs": [],
   "source": [
    "asd_IG_mean = np.mean(z_matrix_asd,axis=0)\n",
    "asd_IG = np.expand_dims(asd_IG_mean,axis=0)"
   ]
  },
  {
   "cell_type": "code",
   "execution_count": null,
   "id": "6d120546",
   "metadata": {},
   "outputs": [],
   "source": [
    "matrix_200_asd = convert_dimension(asd_IG)"
   ]
  },
  {
   "cell_type": "code",
   "execution_count": null,
   "id": "a3e13611",
   "metadata": {},
   "outputs": [],
   "source": [
    "np.save('asd_IG_nor_mean(matrix).npy',matrix_200_asd)"
   ]
  },
  {
   "cell_type": "markdown",
   "id": "1f9bd3c1",
   "metadata": {},
   "source": [
    "#### convert_control"
   ]
  },
  {
   "cell_type": "code",
   "execution_count": null,
   "id": "b52b7e9f",
   "metadata": {},
   "outputs": [],
   "source": [
    "con_IG_mean = np.mean(z_matrix_con,axis=0)\n",
    "con_IG = np.expand_dims(con_IG_mean,axis=0)"
   ]
  },
  {
   "cell_type": "code",
   "execution_count": null,
   "id": "24254c3c",
   "metadata": {},
   "outputs": [],
   "source": [
    "matrix_200_con = convert_dimension(con_IG)"
   ]
  },
  {
   "cell_type": "code",
   "execution_count": null,
   "id": "02ef3e1c",
   "metadata": {},
   "outputs": [],
   "source": [
    "np.save('con_IG_nor_mean(matrix).npy',matrix_200_con)"
   ]
  },
  {
   "cell_type": "markdown",
   "id": "8d440a63",
   "metadata": {},
   "source": [
    "# Permutation t-test"
   ]
  },
  {
   "cell_type": "markdown",
   "id": "68eef0e6",
   "metadata": {},
   "source": [
    "## Load zscore values"
   ]
  },
  {
   "cell_type": "code",
   "execution_count": null,
   "id": "cc8a230e",
   "metadata": {},
   "outputs": [],
   "source": [
    "asd_z = np.load('asd_zscore_normal(sub).npy')\n",
    "con_z = np.load('con_zscore_normal(sub).npy')\n",
    "\n",
    "asd_z = asd_z.T\n",
    "con_z = con_z.T"
   ]
  },
  {
   "cell_type": "markdown",
   "id": "55a13184",
   "metadata": {},
   "source": [
    "## Real t-stat value"
   ]
  },
  {
   "cell_type": "code",
   "execution_count": null,
   "id": "e9409526",
   "metadata": {},
   "outputs": [],
   "source": [
    "# real t stat value\n",
    "real_t =[]\n",
    "for it in range(0,9900):\n",
    "    r_t,r_p=stats.ttest_ind(asd_z[it],con_z[it])\n",
    "    real_t.append(r_t)"
   ]
  },
  {
   "cell_type": "markdown",
   "id": "91cb2ed7",
   "metadata": {},
   "source": [
    "## Permutation t-test"
   ]
  },
  {
   "cell_type": "code",
   "execution_count": null,
   "id": "b8beecad",
   "metadata": {},
   "outputs": [],
   "source": [
    "# permutation t-test\n",
    "count_list = []\n",
    "real_t_abs = np.abs(real_t)\n",
    "for j in range(0,9900):\n",
    "    total_list = np.concatenate((asd_z[j],con_z[j]))\n",
    "    total_list_ = total_list.copy()\n",
    "    G_tvalu = []\n",
    "    count = 0\n",
    "    for i in range(0,1000):\n",
    "        np.random.shuffle(total_list_)\n",
    "        asd_ran = total_list_[:47]\n",
    "        con_ran = total_list_[47:]\n",
    "        f_t, f_p = stats.ttest_ind(asd_ran, con_ran)\n",
    "        G_tvalu.append(f_t)\n",
    "    for i in range(0,1000):\n",
    "        G_tvalu_abs = np.abs(G_tvalu)\n",
    "        if (real_t_abs[j] < G_tvalu_abs[i]):\n",
    "            count = count + 1\n",
    "    count_list.append(count)"
   ]
  },
  {
   "cell_type": "code",
   "execution_count": null,
   "id": "4329e85e",
   "metadata": {},
   "outputs": [],
   "source": [
    "mean = np.mean(G_tvalu)\n",
    "var = np.var(G_tvalu)\n",
    "\n",
    "c_list = np.array(count_list)\n",
    "p_value = c_list/1000  # and np.save('p_value.npy',p_value)\n",
    "\n",
    "p = p_value.copy()\n",
    "\n",
    "for i in range(0, 9900):\n",
    "    if (p[i] < 0.05 and p[i] > 0):\n",
    "        p[i] = 10\n",
    "\n",
    "count_10 = 0 # counting the number of value 10\n",
    "for i in range(0,9900):\n",
    "    if p[i] == 10:\n",
    "        count_10 = count_10 + 1\n",
    "\n",
    "real_t_ = np.array(real_t)\n",
    "\n",
    "count_nan = 0 # counting the number of nan\n",
    "for i in range(0, 9900):\n",
    "    if np.isnan(real_t[i]):\n",
    "        count_nan = count_nan + 1"
   ]
  },
  {
   "cell_type": "code",
   "execution_count": null,
   "id": "340074f5",
   "metadata": {},
   "outputs": [],
   "source": [
    "np.save('pvalue_normal.npy',p_value)\n",
    "np.save('real_t_nor_9900.npy',real_t)"
   ]
  },
  {
   "cell_type": "markdown",
   "id": "398767ce",
   "metadata": {},
   "source": [
    "# FDR correction"
   ]
  },
  {
   "cell_type": "code",
   "execution_count": null,
   "id": "3ed2599f",
   "metadata": {},
   "outputs": [],
   "source": [
    "# pvalue tuple\n",
    "pvalue_dic = dict(enumerate(p_value))\n",
    "pvalue_tuple = list(pvalue_dic.items())\n",
    "\n",
    "\n",
    "# real_t value tuple\n",
    "real_t_dic = dict(enumerate(real_t))\n",
    "real_t_tuple = list(real_t_dic.items())\n",
    "\n",
    "\n",
    "# real_t nan value\n",
    "real_nan_valid= []\n",
    "for i in range(0,9900):\n",
    "    if np.isnan(real_t_tuple[i][1]):\n",
    "        real_nan_valid.append(real_t_tuple[i])\n",
    "\n",
    "# real_t nan keys\n",
    "real_nan_keys=[]\n",
    "for j in range(0,np.array(real_nan_valid).shape[0]):\n",
    "    real_nan_keys.append(real_nan_valid[j][0])\n",
    "\n",
    "# delete nan keys after copy to p_dic (-> r_dic)\n",
    "p_dic = pvalue_dic.copy()\n",
    "for i in real_nan_keys:\n",
    "    del p_dic[i]\n",
    "\n",
    "p_dic_value= np.array(list(p_dic.values()))\n",
    "\n",
    "p_dic_keys =np.array(list(p_dic.keys()))\n",
    "\n",
    "\n",
    "rejected_n, pvalue_n= statsmodels.stats.multitest.fdrcorrection(p_dic_value)\n",
    "\n",
    "\n",
    "p_value_dic_nan = dict(zip(p_dic_keys,pvalue_n))\n",
    "pvalue_tuple_n = list(p_value_dic_nan.items())\n",
    "\n",
    "fdr_valid_n = []\n",
    "for i in range(0, np.array(pvalue_tuple_n).shape[0]):\n",
    "    if (pvalue_tuple_n[i][1] < 0.05):\n",
    "        fdr_valid_n.append(pvalue_tuple_n[i])\n",
    "\n",
    "fdr_keys_n = []\n",
    "for j in range(0, np.array(fdr_valid_n).shape[0]):\n",
    "    fdr_keys_n.append(fdr_valid_n[j][0])\n",
    "\n",
    "# save fdr_index(key)\n",
    "np.save(\"fdr_index(key).npy\",fdr_keys_n)\n",
    "\n",
    "real_t_valid_n = []\n",
    "for i in range(0, np.array(fdr_valid_n).shape[0]):\n",
    "    real_t_valid_n.append(real_t_tuple[fdr_keys_n[i]])"
   ]
  },
  {
   "cell_type": "markdown",
   "id": "85173ba1",
   "metadata": {},
   "source": [
    "## t value matrix using FDR"
   ]
  },
  {
   "cell_type": "code",
   "execution_count": null,
   "id": "11eaafed",
   "metadata": {},
   "outputs": [],
   "source": [
    "fdr_matrix=np.zeros((1,9900))\n",
    "for num in range(0,9900):\n",
    "    for f_n in range(0,np.array(fdr_valid_n).shape[0]):\n",
    "        if (num==real_t_valid_n[f_n][0]):\n",
    "            fdr_matrix[0][num]=real_t_valid_n[f_n][1]"
   ]
  },
  {
   "cell_type": "code",
   "execution_count": null,
   "id": "91187dd3",
   "metadata": {},
   "outputs": [],
   "source": [
    "matrix_200 = convert_dimension(fdr_matrix)\n",
    "np.save('fdr_matrix_normal.npy',fdr_matrix)"
   ]
  }
 ],
 "metadata": {
  "kernelspec": {
   "display_name": "Python 3 (ipykernel)",
   "language": "python",
   "name": "python3"
  },
  "language_info": {
   "codemirror_mode": {
    "name": "ipython",
    "version": 3
   },
   "file_extension": ".py",
   "mimetype": "text/x-python",
   "name": "python",
   "nbconvert_exporter": "python",
   "pygments_lexer": "ipython3",
   "version": "3.9.13"
  },
  "toc": {
   "base_numbering": 1,
   "nav_menu": {},
   "number_sections": true,
   "sideBar": true,
   "skip_h1_title": false,
   "title_cell": "Table of Contents",
   "title_sidebar": "Contents",
   "toc_cell": false,
   "toc_position": {},
   "toc_section_display": true,
   "toc_window_display": false
  }
 },
 "nbformat": 4,
 "nbformat_minor": 5
}
