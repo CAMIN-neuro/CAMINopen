{
 "cells": [
  {
   "cell_type": "markdown",
   "id": "cb43672a",
   "metadata": {},
   "source": [
    "## import"
   ]
  },
  {
   "cell_type": "code",
   "execution_count": null,
   "id": "dc54b199",
   "metadata": {
    "ExecuteTime": {
     "end_time": "2022-08-11T06:40:12.958919Z",
     "start_time": "2022-08-11T06:40:12.939970Z"
    }
   },
   "outputs": [],
   "source": [
    "import numpy as np\n",
    "import matplotlib.pylab as plt\n",
    "import scipy.io\n",
    "import re\n",
    "\n",
    "from brainspace.datasets import load_group_fc, load_parcellation, load_conte69\n",
    "from brainspace.gradient import GradientMaps\n",
    "from brainspace.plotting import plot_hemispheres\n",
    "from brainspace.utils.parcellation import map_to_labels\n",
    "\n",
    "from scipy import io"
   ]
  },
  {
   "cell_type": "code",
   "execution_count": null,
   "id": "f1a78354",
   "metadata": {
    "ExecuteTime": {
     "end_time": "2022-08-11T06:17:43.438811Z",
     "start_time": "2022-08-11T06:17:40.467762Z"
    }
   },
   "outputs": [],
   "source": [
    "import os\n",
    "\n",
    "import nibabel as nib\n",
    "from nilearn.datasets import fetch_surf_fsaverage\n",
    "\n",
    "import brainstat\n",
    "from brainstat.stats.terms import FixedEffect\n",
    "\n",
    "import pandas as pd\n",
    "\n",
    "import scipy as sp\n",
    "import scipy.stats\n",
    "from scipy import stats\n",
    "\n",
    "from math import pi\n",
    "from matplotlib.path import Path\n",
    "from matplotlib.spines import Spine\n",
    "from matplotlib.transforms import Affine2D"
   ]
  },
  {
   "cell_type": "code",
   "execution_count": null,
   "id": "76e3654e",
   "metadata": {
    "ExecuteTime": {
     "end_time": "2022-08-11T06:17:46.945435Z",
     "start_time": "2022-08-11T06:17:46.933464Z"
    }
   },
   "outputs": [],
   "source": [
    "import sys , numpy as np\n",
    "mod = sys.modules[__name__]"
   ]
  },
  {
   "cell_type": "markdown",
   "id": "533b6a59",
   "metadata": {},
   "source": [
    "## load cortex files"
   ]
  },
  {
   "cell_type": "code",
   "execution_count": null,
   "id": "872b588d",
   "metadata": {
    "ExecuteTime": {
     "end_time": "2022-08-11T06:17:43.454769Z",
     "start_time": "2022-08-11T06:17:43.440806Z"
    }
   },
   "outputs": [],
   "source": [
    "from glob import glob\n",
    "path = './data/schaefer200/cortex/'\n",
    "filepaths = glob(path+'*.csv') # load path of csv files"
   ]
  },
  {
   "cell_type": "code",
   "execution_count": null,
   "id": "2d3ad274",
   "metadata": {
    "ExecuteTime": {
     "end_time": "2022-08-11T06:17:46.929486Z",
     "start_time": "2022-08-11T06:17:43.487680Z"
    }
   },
   "outputs": [],
   "source": [
    "import pandas as pd\n",
    "for i in range(len(filepaths)):\n",
    "    dat = pd.read_csv(filepaths[i], header=None)\n",
    "    res = re.split('[\\\\\\/]',filepaths[i])\n",
    "    globals()[res[-1][:-4]+'_a'] = dat.to_numpy() # load csv files as numpy type"
   ]
  },
  {
   "cell_type": "code",
   "execution_count": null,
   "id": "91630f73",
   "metadata": {
    "ExecuteTime": {
     "end_time": "2022-08-11T06:17:46.961390Z",
     "start_time": "2022-08-11T06:17:46.951416Z"
    }
   },
   "outputs": [],
   "source": [
    "for i in range(1,100+1):\n",
    "    globals()['ctx{}'.format(i)] = getattr(mod,'g{}_200_a'.format(i))"
   ]
  },
  {
   "cell_type": "markdown",
   "id": "8c1f4eb9",
   "metadata": {},
   "source": [
    "### make cortico-cortical connectivity matrix"
   ]
  },
  {
   "cell_type": "code",
   "execution_count": null,
   "id": "3ab0bf57",
   "metadata": {
    "ExecuteTime": {
     "end_time": "2022-08-11T06:17:47.790170Z",
     "start_time": "2022-08-11T06:17:46.964380Z"
    }
   },
   "outputs": [],
   "source": [
    "from nilearn import plotting\n",
    "from nilearn.connectome import ConnectivityMeasure \n",
    "correlation_measure = ConnectivityMeasure(kind='correlation')\n",
    "\n",
    "for i in range(1,100+1):\n",
    "    globals()['ctx{}_c'.format(i)] = correlation_measure.fit_transform([getattr(mod, 'ctx{}'.format(i))]) "
   ]
  },
  {
   "cell_type": "code",
   "execution_count": null,
   "id": "f1d167bf",
   "metadata": {
    "ExecuteTime": {
     "end_time": "2022-08-11T06:17:47.806131Z",
     "start_time": "2022-08-11T06:17:47.794159Z"
    }
   },
   "outputs": [],
   "source": [
    "for i in range(1, 100+1):\n",
    "    globals()['ctx{}_c'.format(i)] = getattr(mod, 'ctx{}_c'.format(i))[0]\n",
    "# (1,200,200) array shape -> (200,200) array shape"
   ]
  },
  {
   "cell_type": "markdown",
   "id": "f02f520a",
   "metadata": {},
   "source": [
    "### 1. z-transformation\n",
    "### 2. transform all diagonals into zeros"
   ]
  },
  {
   "cell_type": "code",
   "execution_count": null,
   "id": "c097a27c",
   "metadata": {
    "ExecuteTime": {
     "end_time": "2022-08-11T06:17:47.822084Z",
     "start_time": "2022-08-11T06:17:47.814107Z"
    }
   },
   "outputs": [],
   "source": [
    "tab = np.zeros(shape=(200,200))"
   ]
  },
  {
   "cell_type": "code",
   "execution_count": null,
   "id": "6ed45d67",
   "metadata": {
    "ExecuteTime": {
     "end_time": "2022-08-11T06:17:48.058451Z",
     "start_time": "2022-08-11T06:17:47.826075Z"
    }
   },
   "outputs": [],
   "source": [
    "for i in range(1,101):\n",
    "    tab = np.arctanh(getattr(mod, 'ctx{}_c'.format(i)))\n",
    "    np.fill_diagonal(tab, np.zeros(200))\n",
    "    globals()['ctx{}_cz'.format(i)] = tab"
   ]
  },
  {
   "cell_type": "markdown",
   "id": "5d9f9f79",
   "metadata": {},
   "source": [
    "### get group connectivity matrix averaging z-transformed 100 connectivity matrix"
   ]
  },
  {
   "cell_type": "code",
   "execution_count": null,
   "id": "d7226d8b",
   "metadata": {
    "ExecuteTime": {
     "end_time": "2022-08-11T06:17:48.090369Z",
     "start_time": "2022-08-11T06:17:48.061444Z"
    }
   },
   "outputs": [],
   "source": [
    "import numpy\n",
    "ctx_sum = numpy.zeros(shape=(200,200))\n",
    "for i in range(1,101):\n",
    "    ctx_sum = ctx_sum + getattr(mod, 'ctx{}_cz'.format(i))"
   ]
  },
  {
   "cell_type": "code",
   "execution_count": null,
   "id": "a8b4f87d",
   "metadata": {
    "ExecuteTime": {
     "end_time": "2022-08-11T06:17:48.106325Z",
     "start_time": "2022-08-11T06:17:48.094359Z"
    }
   },
   "outputs": [],
   "source": [
    "ctx_mean = ctx_sum/100 "
   ]
  },
  {
   "cell_type": "code",
   "execution_count": null,
   "id": "d40920dc",
   "metadata": {
    "ExecuteTime": {
     "end_time": "2022-08-11T06:17:48.548141Z",
     "start_time": "2022-08-11T06:17:48.112315Z"
    },
    "scrolled": true
   },
   "outputs": [],
   "source": [
    "plotting.plot_matrix(ctx_mean, vmin=0, vmax=1,colorbar=False) # we get group connectivity matrix of 100 individual connectivity matrices"
   ]
  },
  {
   "cell_type": "markdown",
   "id": "81e17e9b",
   "metadata": {},
   "source": [
    "## make gradient (henceforth eigenvector)"
   ]
  },
  {
   "cell_type": "code",
   "execution_count": null,
   "id": "b835467a",
   "metadata": {
    "ExecuteTime": {
     "end_time": "2022-08-11T06:17:48.975998Z",
     "start_time": "2022-08-11T06:17:48.551134Z"
    }
   },
   "outputs": [],
   "source": [
    "labeling = load_parcellation('schaefer', scale=200, join=True)\n",
    "mask = labeling != 0\n",
    "# generate labeing and mask based on schaefer200"
   ]
  },
  {
   "cell_type": "code",
   "execution_count": null,
   "id": "15cab54d",
   "metadata": {
    "ExecuteTime": {
     "end_time": "2022-08-11T06:17:49.165489Z",
     "start_time": "2022-08-11T06:17:48.980985Z"
    }
   },
   "outputs": [],
   "source": [
    "surf_lh, surf_rh = load_conte69()"
   ]
  },
  {
   "cell_type": "markdown",
   "id": "9364283c",
   "metadata": {},
   "source": [
    "### make eigenvectors of group connectivity matrix"
   ]
  },
  {
   "cell_type": "code",
   "execution_count": null,
   "id": "8ebbd7a8",
   "metadata": {
    "ExecuteTime": {
     "end_time": "2022-08-11T06:17:58.110274Z",
     "start_time": "2022-08-11T06:17:55.462357Z"
    }
   },
   "outputs": [],
   "source": [
    "gradients_kernel = [None] * 3 \n",
    "\n",
    "gm = GradientMaps(kernel='normalized_angle', approach='dm', random_state=0)\n",
    "gm.fit(ctx_mean) \n",
    "    \n",
    "for i in range(0,2+1):\n",
    "    gradients_kernel[i] = map_to_labels(gm.gradients_[:,i], labeling, mask=mask,\n",
    "                                       fill=np.nan)\n",
    "\n",
    "label_text = ['eigenvector1','eigenvector2','eigenvector3']\n",
    "plot_hemispheres(surf_lh, surf_rh, array_name=gradients_kernel, size=(1200,600),\n",
    "                cmap='viridis', color_bar=True, label_text=label_text, zoom=1.45, color_range = (-0.1,0.1)) "
   ]
  },
  {
   "cell_type": "markdown",
   "id": "7a210e3a",
   "metadata": {},
   "source": [
    "### make template of eigenvectors 1,2 and 3 with hcp"
   ]
  },
  {
   "cell_type": "code",
   "execution_count": null,
   "id": "d2e1dba5",
   "metadata": {
    "ExecuteTime": {
     "end_time": "2022-08-11T06:17:59.088658Z",
     "start_time": "2022-08-11T06:17:59.040783Z"
    }
   },
   "outputs": [],
   "source": [
    "mat_file_name = \"./data/gradients_FC.mat\"\n",
    "mat_file = scipy.io.loadmat(mat_file_name)"
   ]
  },
  {
   "cell_type": "code",
   "execution_count": null,
   "id": "d1557557",
   "metadata": {
    "ExecuteTime": {
     "end_time": "2022-08-11T06:18:00.389176Z",
     "start_time": "2022-08-11T06:18:00.379204Z"
    }
   },
   "outputs": [],
   "source": [
    "gm_mean = mat_file['gm_mean']"
   ]
  },
  {
   "cell_type": "code",
   "execution_count": null,
   "id": "ec7b3179",
   "metadata": {
    "ExecuteTime": {
     "end_time": "2022-08-11T06:18:01.724604Z",
     "start_time": "2022-08-11T06:18:00.672419Z"
    }
   },
   "outputs": [],
   "source": [
    "gradients_kernel = [None] * 3 \n",
    "\n",
    "gm = GradientMaps(kernel='normalized_angle', approach='dm', random_state=0) \n",
    "\n",
    "for i in range(0,2+1):\n",
    "    gradients_kernel[i] = map_to_labels(gm_mean[:,i], labeling, mask=mask,\n",
    "                                       fill=np.nan)\n",
    "\n",
    "label_text = ['eigenvector1','eigenvector2','eigenvector3']\n",
    "plot_hemispheres(surf_lh, surf_rh, array_name=gradients_kernel, size=(1200,600),\n",
    "                cmap='viridis', color_bar=True, label_text=label_text, zoom=1.45, color_range = (-0.1,0.1)) "
   ]
  },
  {
   "cell_type": "markdown",
   "id": "6e9adf41",
   "metadata": {},
   "source": [
    "### align group connectivity matrix with hcp eigenvectors"
   ]
  },
  {
   "cell_type": "code",
   "execution_count": null,
   "id": "aac88656",
   "metadata": {
    "ExecuteTime": {
     "end_time": "2022-08-11T06:18:04.188012Z",
     "start_time": "2022-08-11T06:18:04.145130Z"
    }
   },
   "outputs": [],
   "source": [
    "# eigenvector alignment\n",
    "align = GradientMaps(kernel='normalized_angle', approach='dm', alignment='procrustes', n_components = 5)\n",
    "\n",
    "align.fit(ctx_mean, reference = gm_mean)"
   ]
  },
  {
   "cell_type": "code",
   "execution_count": null,
   "id": "a85c0bcd",
   "metadata": {
    "ExecuteTime": {
     "end_time": "2022-08-11T06:18:09.341930Z",
     "start_time": "2022-08-11T06:18:07.975680Z"
    }
   },
   "outputs": [],
   "source": [
    "gradients_kernel = [None] * 3 \n",
    "for i in range(0,2+1):\n",
    "    gradients_kernel[i] = map_to_labels(align.aligned_[:, i], labeling, mask=mask,\n",
    "                                       fill=np.nan)\n",
    "\n",
    "    \n",
    "label_text = ['Eigenvector1','Eigenvector2','Eigenvector3']\n",
    "plot_hemispheres(surf_lh, surf_rh, array_name=gradients_kernel, size=(1200,600),\n",
    "                cmap='viridis', color_bar=False, label_text=label_text, zoom=1.45, color_range = (-0.1, 0.1)) "
   ]
  },
  {
   "cell_type": "markdown",
   "id": "7594286c",
   "metadata": {},
   "source": [
    "### align each individual connectivity matrix with hcp-aligned group connectivity matrix"
   ]
  },
  {
   "cell_type": "markdown",
   "id": "e27c29dd",
   "metadata": {},
   "source": [
    "> we call it individual eigenvector"
   ]
  },
  {
   "cell_type": "code",
   "execution_count": null,
   "id": "a063774a",
   "metadata": {
    "ExecuteTime": {
     "end_time": "2022-08-11T06:18:13.783044Z",
     "start_time": "2022-08-11T06:18:11.723556Z"
    }
   },
   "outputs": [],
   "source": [
    "for i in range(1,100+1):\n",
    "    align2 = GradientMaps(kernel='normalized_angle', approach='dm', alignment='procrustes', n_components = 5)\n",
    "    align2.fit(getattr(mod,'ctx{}_cz'.format(i)), reference = align.aligned_)\n",
    "    globals()['grad_{}'.format(i)] = align2.aligned_[:,0:2+1]"
   ]
  },
  {
   "cell_type": "markdown",
   "id": "911553b6",
   "metadata": {},
   "source": [
    "## Multivariate analysis"
   ]
  },
  {
   "cell_type": "markdown",
   "id": "bb6db853",
   "metadata": {},
   "source": [
    "> we perform multivariate analysis with 100 individual eigenvectors"
   ]
  },
  {
   "cell_type": "code",
   "execution_count": null,
   "id": "3c69e9ff",
   "metadata": {
    "ExecuteTime": {
     "end_time": "2022-08-11T06:18:16.463789Z",
     "start_time": "2022-08-11T06:18:14.174996Z"
    }
   },
   "outputs": [],
   "source": [
    "import numpy as np\n",
    "import pandas as pd\n",
    "import matplotlib.pyplot as plt\n",
    "import seaborn as sns\n",
    "\n",
    "brain = pd.read_excel(\"./data/환자군_정상군_181104_결측값업데이트_scores2_bypark.xlsx\")"
   ]
  },
  {
   "cell_type": "code",
   "execution_count": null,
   "id": "5ef87d1f",
   "metadata": {
    "ExecuteTime": {
     "end_time": "2022-08-11T06:18:16.527616Z",
     "start_time": "2022-08-11T06:18:16.466745Z"
    },
    "scrolled": true
   },
   "outputs": [],
   "source": [
    "brain"
   ]
  },
  {
   "cell_type": "markdown",
   "id": "f164c314",
   "metadata": {},
   "source": [
    "make sex and grp as dummy variables"
   ]
  },
  {
   "cell_type": "code",
   "execution_count": null,
   "id": "c7fc94b7",
   "metadata": {
    "ExecuteTime": {
     "end_time": "2022-08-11T06:18:19.065790Z",
     "start_time": "2022-08-11T06:18:19.045844Z"
    }
   },
   "outputs": [],
   "source": [
    "age = brain['Age']\n",
    "sex = brain['Sex']\n",
    "sex=np.array(sex)\n",
    "sex=sex.reshape(100,1)\n",
    "grp = brain['group']\n",
    "grp=np.array(grp)\n",
    "grp=grp.reshape(100,1)\n",
    "NumSubj = np.size(grp)"
   ]
  },
  {
   "cell_type": "code",
   "execution_count": null,
   "id": "ca043162",
   "metadata": {
    "ExecuteTime": {
     "end_time": "2022-08-11T06:18:19.589393Z",
     "start_time": "2022-08-11T06:18:19.578420Z"
    }
   },
   "outputs": [],
   "source": [
    "sex_dum1 = np.zeros((NumSubj,1))\n",
    "sex_dum1 = np.where(sex==0, 1, sex_dum1)\n",
    "sex_dum2 = np.zeros((NumSubj,1))\n",
    "sex_dum2 = np.where(sex==1, 1, sex_dum2)\n",
    "sex_dum = np.concatenate((sex_dum1, sex_dum2), axis=1) # F,M"
   ]
  },
  {
   "cell_type": "code",
   "execution_count": null,
   "id": "137be09f",
   "metadata": {
    "ExecuteTime": {
     "end_time": "2022-08-11T06:18:19.760931Z",
     "start_time": "2022-08-11T06:18:19.753958Z"
    }
   },
   "outputs": [],
   "source": [
    "grp_dum1 = np.zeros((NumSubj,1))\n",
    "grp_dum1 = np.where(grp==0, 1, grp_dum1)\n",
    "grp_dum2 = np.zeros((NumSubj, 1))\n",
    "grp_dum2 = np.where(grp==1, 1, grp_dum2)\n",
    "grp_dum = np.concatenate((grp_dum1, grp_dum2), axis=1) # ctl pat"
   ]
  },
  {
   "cell_type": "code",
   "execution_count": null,
   "id": "cf6c7a82",
   "metadata": {
    "ExecuteTime": {
     "end_time": "2022-08-11T06:18:21.429467Z",
     "start_time": "2022-08-11T06:18:21.418497Z"
    }
   },
   "outputs": [],
   "source": [
    "# get brainstat dir\n",
    "brainstat_dir = os.path.dirname(brainstat.__file__)"
   ]
  },
  {
   "cell_type": "markdown",
   "id": "71ebadd8",
   "metadata": {},
   "source": [
    "define model"
   ]
  },
  {
   "cell_type": "code",
   "execution_count": null,
   "id": "46c4eb7a",
   "metadata": {
    "ExecuteTime": {
     "end_time": "2022-08-11T06:18:21.666864Z",
     "start_time": "2022-08-11T06:18:21.593031Z"
    },
    "scrolled": true
   },
   "outputs": [],
   "source": [
    "# from brainstat.stats.terms import FixedEffect\n",
    "\n",
    "term_age = FixedEffect(age, \"age\")\n",
    "term_sex = FixedEffect(sex_dum, {\"F\", \"M\"})\n",
    "term_grp = FixedEffect(grp_dum, {\"ctl\", \"pat\"})\n",
    "model = term_age + term_sex + term_grp\n",
    "\n",
    "model"
   ]
  },
  {
   "cell_type": "markdown",
   "id": "2f26df46",
   "metadata": {},
   "source": [
    "append 200x3 matrices of 100 individuals by 3d array"
   ]
  },
  {
   "cell_type": "code",
   "execution_count": null,
   "id": "a3843998",
   "metadata": {
    "ExecuteTime": {
     "end_time": "2022-08-11T06:18:23.412190Z",
     "start_time": "2022-08-11T06:18:23.390220Z"
    }
   },
   "outputs": [],
   "source": [
    "Z = np.dstack([grad_1,grad_2])\n",
    "for i in range(3,100+1):\n",
    "    Z = np.dstack([Z, getattr(mod, 'grad_{}'.format(i))])"
   ]
  },
  {
   "cell_type": "code",
   "execution_count": null,
   "id": "a32ca83c",
   "metadata": {
    "ExecuteTime": {
     "end_time": "2022-08-11T06:18:25.411811Z",
     "start_time": "2022-08-11T06:18:25.401872Z"
    }
   },
   "outputs": [],
   "source": [
    "NumROI = 200"
   ]
  },
  {
   "cell_type": "code",
   "execution_count": null,
   "id": "952e5857",
   "metadata": {
    "ExecuteTime": {
     "end_time": "2022-08-11T06:18:26.841024Z",
     "start_time": "2022-08-11T06:18:26.820044Z"
    }
   },
   "outputs": [],
   "source": [
    "data = np.zeros((NumSubj, NumROI, 3))\n",
    "for ns in range(0,NumSubj):\n",
    "    mat = Z[:,:,ns]\n",
    "    data[ns,:,:] = mat"
   ]
  },
  {
   "cell_type": "code",
   "execution_count": null,
   "id": "c8e75153",
   "metadata": {
    "ExecuteTime": {
     "end_time": "2022-08-11T06:18:27.046439Z",
     "start_time": "2022-08-11T06:18:26.991587Z"
    }
   },
   "outputs": [],
   "source": [
    "from brainstat.stats.SLM import SLM\n",
    "\n",
    "contrast = grp_dum[:,0] - grp_dum[:,1]\n",
    "slm = SLM(model, contrast, correction=\"fdr\")\n",
    "slm.fit(data)"
   ]
  },
  {
   "cell_type": "markdown",
   "id": "6d175806",
   "metadata": {},
   "source": [
    "when we put contrast = patient groups - normal controls, we get t-values of these contrasts"
   ]
  },
  {
   "cell_type": "code",
   "execution_count": null,
   "id": "52df3d69",
   "metadata": {
    "ExecuteTime": {
     "end_time": "2022-08-11T06:18:28.459697Z",
     "start_time": "2022-08-11T06:18:28.439710Z"
    }
   },
   "outputs": [],
   "source": [
    "slm.t"
   ]
  },
  {
   "cell_type": "markdown",
   "id": "a0d8d42b",
   "metadata": {},
   "source": [
    "we save t-values of group differences in cortical eigenvectors for future correlation analysis with neurotransmitter distribution"
   ]
  },
  {
   "cell_type": "code",
   "execution_count": null,
   "id": "a580af35",
   "metadata": {
    "ExecuteTime": {
     "end_time": "2022-08-11T06:19:32.850269Z",
     "start_time": "2022-08-11T06:19:32.832317Z"
    }
   },
   "outputs": [],
   "source": [
    "pd.DataFrame([slm.t[0]]).T.to_csv(\"./fig1/total_t_value.csv\", header=False, index=False)"
   ]
  },
  {
   "cell_type": "markdown",
   "id": "c70d2b6d",
   "metadata": {},
   "source": [
    "we will get p-values"
   ]
  },
  {
   "cell_type": "code",
   "execution_count": null,
   "id": "ac79c6ea",
   "metadata": {
    "ExecuteTime": {
     "end_time": "2022-08-11T06:18:30.430385Z",
     "start_time": "2022-08-11T06:18:30.423416Z"
    }
   },
   "outputs": [],
   "source": [
    "rv = sp.stats.t(df=slm.df)\n",
    "cdf = rv.cdf(slm.t)\n",
    "pval = 1-cdf"
   ]
  },
  {
   "cell_type": "code",
   "execution_count": null,
   "id": "9171bb57",
   "metadata": {
    "ExecuteTime": {
     "end_time": "2022-08-11T06:18:31.522489Z",
     "start_time": "2022-08-11T06:18:31.507504Z"
    },
    "scrolled": true
   },
   "outputs": [],
   "source": [
    "pval"
   ]
  },
  {
   "cell_type": "markdown",
   "id": "d22999fa",
   "metadata": {},
   "source": [
    "we will get corrected p-values"
   ]
  },
  {
   "cell_type": "code",
   "execution_count": null,
   "id": "dcd2658a",
   "metadata": {
    "ExecuteTime": {
     "end_time": "2022-08-11T06:18:39.242863Z",
     "start_time": "2022-08-11T06:18:39.177980Z"
    }
   },
   "outputs": [],
   "source": [
    "# two-tailed\n",
    "pval = stats.t.sf(np.abs(slm.t), slm.df)*2\n",
    "\n",
    "from  statsmodels.stats import multitest\n",
    "pcor = multitest.fdrcorrection(pval.ravel())"
   ]
  },
  {
   "cell_type": "code",
   "execution_count": null,
   "id": "112df2a8",
   "metadata": {
    "ExecuteTime": {
     "end_time": "2022-08-07T17:24:51.916945Z",
     "start_time": "2022-08-07T17:24:51.857074Z"
    }
   },
   "outputs": [],
   "source": [
    "pcor[1]"
   ]
  },
  {
   "cell_type": "markdown",
   "id": "276f6a67",
   "metadata": {},
   "source": [
    "return significant indexes of t-values under corrected p-values < 0.055"
   ]
  },
  {
   "cell_type": "code",
   "execution_count": null,
   "id": "30aefcec",
   "metadata": {
    "ExecuteTime": {
     "end_time": "2022-08-11T06:18:41.545647Z",
     "start_time": "2022-08-11T06:18:41.534677Z"
    }
   },
   "outputs": [],
   "source": [
    "sig_idx = np.where(pcor[1]<0.055)"
   ]
  },
  {
   "cell_type": "code",
   "execution_count": null,
   "id": "d29ecb50",
   "metadata": {
    "ExecuteTime": {
     "end_time": "2022-08-11T06:18:41.735142Z",
     "start_time": "2022-08-11T06:18:41.720181Z"
    }
   },
   "outputs": [],
   "source": [
    "tot_t = slm.t.T\n",
    "sig_t = np.zeros((200,1))\n",
    "sig_t[sig_idx] = tot_t[sig_idx]"
   ]
  },
  {
   "cell_type": "code",
   "execution_count": null,
   "id": "a9ac142b",
   "metadata": {
    "ExecuteTime": {
     "end_time": "2022-08-07T17:25:32.832888Z",
     "start_time": "2022-08-07T17:25:32.819957Z"
    }
   },
   "outputs": [],
   "source": [
    "sig_t"
   ]
  },
  {
   "cell_type": "markdown",
   "id": "3899169a",
   "metadata": {},
   "source": [
    "import maximum value among significant values"
   ]
  },
  {
   "cell_type": "code",
   "execution_count": null,
   "id": "32ec4a4c",
   "metadata": {
    "ExecuteTime": {
     "end_time": "2022-08-11T06:18:44.101807Z",
     "start_time": "2022-08-11T06:18:44.092832Z"
    }
   },
   "outputs": [],
   "source": [
    "np.max(sig_t)"
   ]
  },
  {
   "cell_type": "markdown",
   "id": "7bf463cd",
   "metadata": {},
   "source": [
    "we only plot significant regions onto brain surface "
   ]
  },
  {
   "cell_type": "code",
   "execution_count": null,
   "id": "a25a0140",
   "metadata": {
    "ExecuteTime": {
     "end_time": "2022-08-11T06:18:49.857114Z",
     "start_time": "2022-08-11T06:18:48.235410Z"
    }
   },
   "outputs": [],
   "source": [
    "data = [None]*1\n",
    "data[0] = map_to_labels(sig_t[:,0], labeling, mask=mask, fill=np.nan)\n",
    "\n",
    "\n",
    "label_text = ['sig_t']\n",
    "plot_hemispheres(surf_lh, surf_rh, array_name=data, size=(1200,600),\n",
    "                cmap='Reds', color_bar=False, label_text=label_text, color_range=(0,np.max(sig_t)), zoom=1)"
   ]
  },
  {
   "cell_type": "markdown",
   "id": "6f10a5a3",
   "metadata": {},
   "source": [
    "## visualization"
   ]
  },
  {
   "cell_type": "markdown",
   "id": "f5730792",
   "metadata": {},
   "source": [
    "### radar chart"
   ]
  },
  {
   "cell_type": "markdown",
   "id": "5f5d2d27",
   "metadata": {},
   "source": [
    "classify 200 nodes into 7 networks"
   ]
  },
  {
   "cell_type": "code",
   "execution_count": null,
   "id": "7f951136",
   "metadata": {
    "ExecuteTime": {
     "end_time": "2022-08-11T06:18:51.700180Z",
     "start_time": "2022-08-11T06:18:51.680254Z"
    }
   },
   "outputs": [],
   "source": [
    "Vis_idx = list(range(1-1,14+1-1)) + list(range(101-1,115+1-1))\n",
    "SomMot_idx = list(range(15-1,30+1-1)) + list(range(116-1,134+1-1))\n",
    "DorsAttn_idx = list(range(31-1,43+1-1)) + list(range(135-1,147+1-1))\n",
    "SalVentAttn_idx = list(range(44-1,54+1-1)) + list(range(148-1,158+1-1))\n",
    "Limbic_idx = list(range(55-1,60+1-1)) + list(range(159-1,164+1-1))\n",
    "Cont_idx = list(range(61-1,73+1-1)) + list(range(165-1,181+1-1))\n",
    "Default_idx = list(range(74-1,100+1-1)) + list(range(182-1,200+1-1))"
   ]
  },
  {
   "cell_type": "code",
   "execution_count": null,
   "id": "385646bd",
   "metadata": {
    "ExecuteTime": {
     "end_time": "2022-08-11T06:18:52.840132Z",
     "start_time": "2022-08-11T06:18:52.831157Z"
    }
   },
   "outputs": [],
   "source": [
    "Vis_m = np.mean(tot_t[Vis_idx])\n",
    "SomMot_m = np.mean(tot_t[SomMot_idx])\n",
    "DorsAttn_m = np.mean(tot_t[DorsAttn_idx])\n",
    "SalVentAttn_m = np.mean(tot_t[SalVentAttn_idx])\n",
    "Limbic_m = np.mean(tot_t[Limbic_idx])\n",
    "Cont_m = np.mean(tot_t[Cont_idx])\n",
    "Default_m = np.mean(tot_t[Default_idx])"
   ]
  },
  {
   "cell_type": "code",
   "execution_count": null,
   "id": "7870e5cd",
   "metadata": {
    "ExecuteTime": {
     "end_time": "2022-08-11T06:18:53.934235Z",
     "start_time": "2022-08-11T06:18:53.918258Z"
    }
   },
   "outputs": [],
   "source": [
    "df = pd.DataFrame({\n",
    "    'Visual': [Vis_m],\n",
    "    'Somatomotor': [SomMot_m],\n",
    "    'Dorsal attention': [DorsAttn_m],\n",
    "    'Ventral attention': [SalVentAttn_m],\n",
    "    'Limbic': [Limbic_m],\n",
    "    'Frontoparietal': [Cont_m],\n",
    "    'Default mode': [Default_m]\n",
    "})"
   ]
  },
  {
   "cell_type": "code",
   "execution_count": null,
   "id": "af463949",
   "metadata": {
    "ExecuteTime": {
     "end_time": "2022-08-11T06:18:54.683203Z",
     "start_time": "2022-08-11T06:18:54.676226Z"
    }
   },
   "outputs": [],
   "source": [
    "y = df.values[0]\n",
    "y = numpy.concatenate((y,y[0]),axis=None)"
   ]
  },
  {
   "cell_type": "markdown",
   "id": "23843c6d",
   "metadata": {},
   "source": [
    "make spider-plot"
   ]
  },
  {
   "cell_type": "code",
   "execution_count": null,
   "id": "ffb6aef7",
   "metadata": {
    "ExecuteTime": {
     "end_time": "2022-08-11T06:19:00.553924Z",
     "start_time": "2022-08-11T06:19:00.222811Z"
    }
   },
   "outputs": [],
   "source": [
    "labels = df.columns[:]\n",
    "num_labels = len(labels)\n",
    "\n",
    "labels = ['','','','','','','']\n",
    "\n",
    "angles = [x/float(num_labels)*(2*pi) for x in range(num_labels)] \n",
    "angles += angles[:1] \n",
    "\n",
    "\n",
    "fig = plt.figure(figsize=(5,5))\n",
    "# fig.set_facecolor('white')\n",
    " \n",
    "    \n",
    "ax = plt.subplot(polar=True)\n",
    "ax.set_theta_offset(pi / 2) ## starting point\n",
    "ax.set_theta_direction(-1) ## direction\n",
    "    \n",
    "plt.xticks(angles[:-1], labels, fontsize=13) ## x-ticks label\n",
    "ax.tick_params(axis='x', which='major', pad=15) ## make empty spaces between x-axes and ticks\n",
    " \n",
    "ax.set_rlabel_position(0) ## y-axis degree\n",
    "plt.yticks([1,1.5,2,2.5],['1','1.5','2','2.5'], fontsize=20) ## y-ticks\n",
    "plt.ylim(1,2.5)\n",
    "    \n",
    "ax.plot(angles, y, linewidth=2, linestyle='solid', color='black') ## print spider-plot     "
   ]
  },
  {
   "cell_type": "markdown",
   "id": "fcee12fe",
   "metadata": {},
   "source": [
    "return values of spider plot"
   ]
  },
  {
   "cell_type": "code",
   "execution_count": null,
   "id": "4fbd9827",
   "metadata": {
    "ExecuteTime": {
     "end_time": "2022-08-11T06:19:03.237778Z",
     "start_time": "2022-08-11T06:19:03.215803Z"
    }
   },
   "outputs": [],
   "source": [
    "df"
   ]
  },
  {
   "cell_type": "markdown",
   "id": "f07d8a70",
   "metadata": {},
   "source": [
    "we make network-wide brain surfaces to append spider-plot labels."
   ]
  },
  {
   "cell_type": "code",
   "execution_count": null,
   "id": "963faa4c",
   "metadata": {
    "ExecuteTime": {
     "end_time": "2022-08-11T06:19:05.386030Z",
     "start_time": "2022-08-11T06:19:05.365052Z"
    }
   },
   "outputs": [],
   "source": [
    "Vis_t = np.zeros((200,1))\n",
    "Vis_t[Vis_idx] = tot_t[Vis_idx]\n",
    "\n",
    "SomMot_t = np.zeros((200,1))\n",
    "SomMot_t[SomMot_idx] = tot_t[SomMot_idx]\n",
    "\n",
    "DorsAttn_t = np.zeros((200,1))\n",
    "DorsAttn_t[DorsAttn_idx] = tot_t[DorsAttn_idx]\n",
    "\n",
    "SalVentAttn_t = np.zeros((200,1))\n",
    "SalVentAttn_t[SalVentAttn_idx] = tot_t[SalVentAttn_idx]\n",
    "\n",
    "Limbic_t = np.zeros((200,1))\n",
    "Limbic_t[Limbic_idx] = tot_t[Limbic_idx]\n",
    "\n",
    "Cont_t = np.zeros((200,1))\n",
    "Cont_t[Cont_idx] = tot_t[Cont_idx]\n",
    "\n",
    "Default_t = np.zeros((200,1))\n",
    "Default_t[Default_idx] = tot_t[Default_idx]"
   ]
  },
  {
   "cell_type": "code",
   "execution_count": null,
   "id": "d75f0a66",
   "metadata": {
    "ExecuteTime": {
     "end_time": "2022-08-11T06:19:08.070820Z",
     "start_time": "2022-08-11T06:19:06.806197Z"
    }
   },
   "outputs": [],
   "source": [
    "data = [None]*1\n",
    "data[0] = map_to_labels(Vis_t[:,0], labeling, mask=mask, fill=np.nan)\n",
    "\n",
    "\n",
    "label_text = ['Vis_t']\n",
    "plot_hemispheres(surf_lh, surf_rh, array_name=data, size=(1200,600),\n",
    "                cmap='Reds', color_bar=False, label_text=label_text, color_range=(0,np.max(Vis_t)), zoom=1)"
   ]
  },
  {
   "cell_type": "code",
   "execution_count": null,
   "id": "b1d1da81",
   "metadata": {
    "ExecuteTime": {
     "end_time": "2022-08-07T17:28:16.480454Z",
     "start_time": "2022-08-07T17:28:15.285925Z"
    }
   },
   "outputs": [],
   "source": [
    "data = [None]*1\n",
    "data[0] = map_to_labels(SomMot_t[:,0], labeling, mask=mask, fill=np.nan)\n",
    "\n",
    "\n",
    "label_text = ['SomMot_t']\n",
    "plot_hemispheres(surf_lh, surf_rh, array_name=data, size=(1200,600),\n",
    "                cmap='Reds', color_bar=False, label_text=label_text, color_range=(0,np.max(sig_t)), zoom=1)"
   ]
  },
  {
   "cell_type": "code",
   "execution_count": null,
   "id": "04675881",
   "metadata": {
    "ExecuteTime": {
     "end_time": "2022-08-07T17:28:24.013240Z",
     "start_time": "2022-08-07T17:28:22.566880Z"
    }
   },
   "outputs": [],
   "source": [
    "data = [None]*1\n",
    "data[0] = map_to_labels(DorsAttn_t[:,0], labeling, mask=mask, fill=np.nan)\n",
    "\n",
    "\n",
    "label_text = ['DorsAttn_t']\n",
    "plot_hemispheres(surf_lh, surf_rh, array_name=data, size=(1200,600),\n",
    "                cmap='Reds', color_bar=False, label_text=label_text, color_range=(0,np.max(sig_t)), zoom=1)"
   ]
  },
  {
   "cell_type": "code",
   "execution_count": null,
   "id": "1f005e5c",
   "metadata": {
    "ExecuteTime": {
     "end_time": "2022-08-07T17:28:31.813180Z",
     "start_time": "2022-08-07T17:28:30.553142Z"
    }
   },
   "outputs": [],
   "source": [
    "data = [None]*1\n",
    "data[0] = map_to_labels(SalVentAttn_t[:,0], labeling, mask=mask, fill=np.nan)\n",
    "\n",
    "\n",
    "label_text = ['SalVentAttn_t']\n",
    "plot_hemispheres(surf_lh, surf_rh, array_name=data, size=(1200,600),\n",
    "                cmap='Reds', color_bar=False, label_text=label_text, color_range=(0,np.max(sig_t)), zoom=1)"
   ]
  },
  {
   "cell_type": "code",
   "execution_count": null,
   "id": "cdebd7a6",
   "metadata": {
    "ExecuteTime": {
     "end_time": "2022-08-07T17:28:42.080080Z",
     "start_time": "2022-08-07T17:28:40.795199Z"
    }
   },
   "outputs": [],
   "source": [
    "data = [None]*1\n",
    "data[0] = map_to_labels(Limbic_t[:,0], labeling, mask=mask, fill=np.nan)\n",
    "\n",
    "\n",
    "label_text = ['Limbic_t']\n",
    "plot_hemispheres(surf_lh, surf_rh, array_name=data, size=(1200,600),\n",
    "                cmap='Reds', color_bar=False, label_text=label_text, color_range=(0,np.max(sig_t)), zoom=1)"
   ]
  },
  {
   "cell_type": "code",
   "execution_count": null,
   "id": "49d0317b",
   "metadata": {
    "ExecuteTime": {
     "end_time": "2022-08-07T17:28:52.516819Z",
     "start_time": "2022-08-07T17:28:51.081795Z"
    }
   },
   "outputs": [],
   "source": [
    "data = [None]*1\n",
    "data[0] = map_to_labels(Cont_t[:,0], labeling, mask=mask, fill=np.nan)\n",
    "\n",
    "\n",
    "label_text = ['Cont_t']\n",
    "plot_hemispheres(surf_lh, surf_rh, array_name=data, size=(1200,600),\n",
    "                cmap='Reds', color_bar=False, label_text=label_text, color_range=(0,np.max(sig_t)), zoom=1)"
   ]
  },
  {
   "cell_type": "code",
   "execution_count": null,
   "id": "f23230da",
   "metadata": {
    "ExecuteTime": {
     "end_time": "2022-08-07T17:29:01.593990Z",
     "start_time": "2022-08-07T17:29:00.263414Z"
    }
   },
   "outputs": [],
   "source": [
    "data = [None]*1\n",
    "data[0] = map_to_labels(Default_t[:,0], labeling, mask=mask, fill=np.nan)\n",
    "\n",
    "\n",
    "label_text = ['Default_t']\n",
    "plot_hemispheres(surf_lh, surf_rh, array_name=data, size=(1200,600),\n",
    "                cmap='Reds', color_bar=False, label_text=label_text, color_range=(0,np.max(sig_t)), zoom=1)"
   ]
  },
  {
   "cell_type": "markdown",
   "id": "d7c6e097",
   "metadata": {},
   "source": [
    "not only significant regions, but also all regions"
   ]
  },
  {
   "cell_type": "code",
   "execution_count": null,
   "id": "e517cd78",
   "metadata": {
    "ExecuteTime": {
     "end_time": "2022-08-07T17:29:32.327200Z",
     "start_time": "2022-08-07T17:29:25.099526Z"
    }
   },
   "outputs": [],
   "source": [
    "data = [None]*1\n",
    "data[0] = map_to_labels(tot_t[:,0], labeling, mask=mask, fill=np.nan)\n",
    "\n",
    "\n",
    "label_text = ['whole t_value']\n",
    "plot_hemispheres(surf_lh, surf_rh, array_name=data, size=(1200,600),\n",
    "                cmap='Reds', color_bar=False, label_text=label_text, color_range=(0,4), zoom=1)"
   ]
  },
  {
   "cell_type": "markdown",
   "id": "128e1c5a",
   "metadata": {},
   "source": [
    "### scree plot"
   ]
  },
  {
   "cell_type": "markdown",
   "id": "1a02969a",
   "metadata": {},
   "source": [
    "we make scree plot of eigenvectors"
   ]
  },
  {
   "cell_type": "code",
   "execution_count": null,
   "id": "05dac6f5",
   "metadata": {
    "ExecuteTime": {
     "end_time": "2022-08-11T06:19:12.010303Z",
     "start_time": "2022-08-11T06:19:11.993324Z"
    }
   },
   "outputs": [],
   "source": [
    "ctx_df = pd.DataFrame(ctx_mean)"
   ]
  },
  {
   "cell_type": "code",
   "execution_count": null,
   "id": "70b9a1aa",
   "metadata": {
    "ExecuteTime": {
     "end_time": "2022-08-11T06:19:12.357384Z",
     "start_time": "2022-08-11T06:19:12.342388Z"
    },
    "scrolled": true
   },
   "outputs": [],
   "source": [
    "from sklearn import preprocessing"
   ]
  },
  {
   "cell_type": "code",
   "execution_count": null,
   "id": "a3ed68e2",
   "metadata": {
    "ExecuteTime": {
     "end_time": "2022-08-11T06:19:12.690455Z",
     "start_time": "2022-08-11T06:19:12.685470Z"
    }
   },
   "outputs": [],
   "source": [
    "scaler = preprocessing.StandardScaler()"
   ]
  },
  {
   "cell_type": "code",
   "execution_count": null,
   "id": "8ba482cb",
   "metadata": {
    "ExecuteTime": {
     "end_time": "2022-08-11T06:19:14.752935Z",
     "start_time": "2022-08-11T06:19:14.737978Z"
    }
   },
   "outputs": [],
   "source": [
    "scaled_sum = ctx_mean.copy()"
   ]
  },
  {
   "cell_type": "code",
   "execution_count": null,
   "id": "f0db16f5",
   "metadata": {
    "ExecuteTime": {
     "end_time": "2022-08-11T06:19:15.068093Z",
     "start_time": "2022-08-11T06:19:15.058154Z"
    }
   },
   "outputs": [],
   "source": [
    "scaled_sum = pd.DataFrame(scaler.fit_transform(scaled_sum))                         "
   ]
  },
  {
   "cell_type": "code",
   "execution_count": null,
   "id": "53894bef",
   "metadata": {
    "ExecuteTime": {
     "end_time": "2022-08-11T06:19:15.306455Z",
     "start_time": "2022-08-11T06:19:15.289500Z"
    }
   },
   "outputs": [],
   "source": [
    "from sklearn.decomposition import PCA"
   ]
  },
  {
   "cell_type": "code",
   "execution_count": null,
   "id": "f6fc3c67",
   "metadata": {
    "ExecuteTime": {
     "end_time": "2022-08-11T06:19:15.574764Z",
     "start_time": "2022-08-11T06:19:15.561809Z"
    },
    "scrolled": true
   },
   "outputs": [],
   "source": [
    "pca = PCA(n_components=5)"
   ]
  },
  {
   "cell_type": "code",
   "execution_count": null,
   "id": "59575583",
   "metadata": {
    "ExecuteTime": {
     "end_time": "2022-08-11T06:19:16.033511Z",
     "start_time": "2022-08-11T06:19:15.990625Z"
    }
   },
   "outputs": [],
   "source": [
    "Principal_components = pca.fit_transform(scaled_sum)"
   ]
  },
  {
   "cell_type": "code",
   "execution_count": null,
   "id": "9bd423ac",
   "metadata": {
    "ExecuteTime": {
     "end_time": "2022-08-11T06:19:16.443451Z",
     "start_time": "2022-08-11T06:19:16.429451Z"
    }
   },
   "outputs": [],
   "source": [
    "pca_df = pd.DataFrame(data = Principal_components, columns = ['PC1', 'PC2', 'PC3', 'PC4','PC5'])"
   ]
  },
  {
   "cell_type": "code",
   "execution_count": null,
   "id": "f74de181",
   "metadata": {
    "ExecuteTime": {
     "end_time": "2022-08-11T06:19:17.965014Z",
     "start_time": "2022-08-11T06:19:17.956038Z"
    }
   },
   "outputs": [],
   "source": [
    "print(pca_df)"
   ]
  },
  {
   "cell_type": "code",
   "execution_count": null,
   "id": "3e8cbd78",
   "metadata": {
    "ExecuteTime": {
     "end_time": "2022-08-11T06:19:19.600652Z",
     "start_time": "2022-08-11T06:19:19.568738Z"
    }
   },
   "outputs": [],
   "source": [
    "pca_fit = pca.fit(scaled_sum)"
   ]
  },
  {
   "cell_type": "code",
   "execution_count": null,
   "id": "b2caf2c9",
   "metadata": {
    "ExecuteTime": {
     "end_time": "2022-08-11T06:19:19.870928Z",
     "start_time": "2022-08-11T06:19:19.851981Z"
    }
   },
   "outputs": [],
   "source": [
    "PC_values = np.arange(pca.n_components_) + 1"
   ]
  },
  {
   "cell_type": "code",
   "execution_count": null,
   "id": "784454bb",
   "metadata": {
    "ExecuteTime": {
     "end_time": "2022-08-11T06:19:21.539465Z",
     "start_time": "2022-08-11T06:19:21.363936Z"
    },
    "scrolled": true
   },
   "outputs": [],
   "source": [
    "# Scree plot\n",
    "\n",
    "fig = plt.figure(figsize=(7,5))\n",
    "fig.set_facecolor('white')\n",
    "\n",
    "plt.plot(PC_values, pca.explained_variance_ratio_, 'ro-', linewidth=2, color='black')\n",
    "plt.xticks([1,2,3,4,5])\n",
    "plt.xlabel('Component number')\n",
    "plt.ylabel('Scaled eigenvalues')\n",
    "plt.show()\n",
    "# plt.axis([0,5,0,3])"
   ]
  },
  {
   "cell_type": "markdown",
   "id": "d9b73579",
   "metadata": {},
   "source": [
    "we check explained portion"
   ]
  },
  {
   "cell_type": "code",
   "execution_count": null,
   "id": "3a5fc85e",
   "metadata": {
    "ExecuteTime": {
     "end_time": "2022-08-11T06:19:23.829483Z",
     "start_time": "2022-08-11T06:19:23.811507Z"
    },
    "scrolled": true
   },
   "outputs": [],
   "source": [
    "pca.explained_variance_ratio_"
   ]
  },
  {
   "cell_type": "code",
   "execution_count": null,
   "id": "802ae268",
   "metadata": {
    "ExecuteTime": {
     "end_time": "2022-08-11T06:19:28.958647Z",
     "start_time": "2022-08-11T06:19:28.950671Z"
    }
   },
   "outputs": [],
   "source": [
    "print(\"Proportion of Variance Explained : \",\n",
    "     pca.explained_variance_ratio_.round(2))\n",
    "\n",
    "out_sum = np.cumsum(pca.explained_variance_ratio_).round(2)\n",
    "print(\"Cumulative Prop. Variance Explained\", out_sum)"
   ]
  },
  {
   "cell_type": "markdown",
   "id": "758fb748",
   "metadata": {},
   "source": [
    "### yeo17 atlas for functional connectivity schema"
   ]
  },
  {
   "cell_type": "markdown",
   "id": "a59717d9",
   "metadata": {},
   "source": [
    "Load atlases"
   ]
  },
  {
   "cell_type": "code",
   "execution_count": null,
   "id": "ef852e9b",
   "metadata": {
    "ExecuteTime": {
     "end_time": "2022-08-11T06:31:44.163129Z",
     "start_time": "2022-08-11T06:31:44.158143Z"
    }
   },
   "outputs": [],
   "source": [
    "from nilearn.maskers import NiftiMasker\n",
    "from nilearn.input_data import NiftiMasker"
   ]
  },
  {
   "cell_type": "code",
   "execution_count": null,
   "id": "d90a56fa",
   "metadata": {
    "ExecuteTime": {
     "end_time": "2022-08-11T06:31:44.589999Z",
     "start_time": "2022-08-11T06:31:44.578029Z"
    }
   },
   "outputs": [],
   "source": [
    "from nilearn.input_data import NiftiLabelsMasker\n",
    "from nilearn.connectome import ConnectivityMeasure"
   ]
  },
  {
   "cell_type": "code",
   "execution_count": null,
   "id": "aa9e4eec",
   "metadata": {
    "ExecuteTime": {
     "end_time": "2022-08-11T06:32:05.531122Z",
     "start_time": "2022-08-11T06:31:44.852285Z"
    }
   },
   "outputs": [],
   "source": [
    "from nilearn import datasets\n",
    "yeo = datasets.fetch_atlas_yeo_2011()"
   ]
  },
  {
   "cell_type": "code",
   "execution_count": null,
   "id": "887a4616",
   "metadata": {
    "ExecuteTime": {
     "end_time": "2022-08-11T06:36:46.873881Z",
     "start_time": "2022-08-11T06:32:05.534116Z"
    }
   },
   "outputs": [],
   "source": [
    "data = datasets.fetch_development_fmri(n_subjects=50)"
   ]
  },
  {
   "cell_type": "markdown",
   "id": "ad0e6891",
   "metadata": {},
   "source": [
    "extract coordinates on atlas - parcellation"
   ]
  },
  {
   "cell_type": "code",
   "execution_count": null,
   "id": "27357f1a",
   "metadata": {
    "ExecuteTime": {
     "end_time": "2022-08-11T06:37:46.769974Z",
     "start_time": "2022-08-11T06:37:46.752025Z"
    }
   },
   "outputs": [],
   "source": [
    "connectome_measure = ConnectivityMeasure(kind='correlation')\n",
    "\n",
    "from nilearn import plotting\n",
    "\n",
    "masker = NiftiLabelsMasker(labels_img=yeo['thick_17'],standardize=True,memory='nilearn_cache')"
   ]
  },
  {
   "cell_type": "code",
   "execution_count": null,
   "id": "90bf21ab",
   "metadata": {
    "ExecuteTime": {
     "end_time": "2022-08-11T06:38:02.481937Z",
     "start_time": "2022-08-11T06:37:59.371263Z"
    }
   },
   "outputs": [],
   "source": [
    "time_series = []\n",
    "for func, confounds in zip(data.func, data.confounds):\n",
    "    time_series.append(masker.fit_transform(func, confounds=confounds))"
   ]
  },
  {
   "cell_type": "code",
   "execution_count": null,
   "id": "62718ca1",
   "metadata": {
    "ExecuteTime": {
     "end_time": "2022-08-11T06:20:08.359478Z",
     "start_time": "2022-08-11T06:20:07.039008Z"
    }
   },
   "outputs": [],
   "source": [
    "correlation_matrices = connectome_measure.fit_transform(time_series)"
   ]
  },
  {
   "cell_type": "code",
   "execution_count": null,
   "id": "2eb16b1f",
   "metadata": {
    "ExecuteTime": {
     "end_time": "2022-08-11T06:20:08.362465Z",
     "start_time": "2022-08-11T06:20:08.362465Z"
    }
   },
   "outputs": [],
   "source": [
    "mean_correlation_matrix = connectome_measure.mean_"
   ]
  },
  {
   "cell_type": "code",
   "execution_count": null,
   "id": "dfd4437a",
   "metadata": {
    "ExecuteTime": {
     "end_time": "2022-08-07T17:37:06.789803Z",
     "start_time": "2022-08-07T17:37:06.789803Z"
    }
   },
   "outputs": [],
   "source": [
    "coordinates_l = plotting.find_parcellation_cut_coords(labels_img=yeo['thick_17'], label_hemisphere='left')"
   ]
  },
  {
   "cell_type": "code",
   "execution_count": null,
   "id": "8d54f160",
   "metadata": {
    "ExecuteTime": {
     "end_time": "2022-08-07T17:37:06.792791Z",
     "start_time": "2022-08-07T17:37:06.792791Z"
    }
   },
   "outputs": [],
   "source": [
    "coordinates_r = plotting.find_parcellation_cut_coords(labels_img=yeo['thick_17'], label_hemisphere='right')"
   ]
  },
  {
   "cell_type": "code",
   "execution_count": null,
   "id": "4cf0eb9e",
   "metadata": {
    "ExecuteTime": {
     "end_time": "2022-08-07T17:37:06.795783Z",
     "start_time": "2022-08-07T17:37:06.795783Z"
    }
   },
   "outputs": [],
   "source": [
    "plotting.plot_connectome(mean_correlation_matrix, coordinates_l,\n",
    "                        edge_threshold=\"80%\", annotate=False)\n",
    "# plt.savefig('./fig1/yeo17_left.png')"
   ]
  },
  {
   "cell_type": "code",
   "execution_count": null,
   "id": "013d701b",
   "metadata": {
    "ExecuteTime": {
     "end_time": "2022-08-07T17:37:06.797777Z",
     "start_time": "2022-08-07T17:37:06.797777Z"
    }
   },
   "outputs": [],
   "source": [
    "plotting.plot_connectome(mean_correlation_matrix, coordinates_r,\n",
    "                        edge_threshold=\"80%\", annotate=False)\n",
    "# plt.savefig('./fig1/yeo17_right.png')"
   ]
  },
  {
   "cell_type": "code",
   "execution_count": null,
   "id": "9f901b64",
   "metadata": {},
   "outputs": [],
   "source": []
  },
  {
   "cell_type": "code",
   "execution_count": null,
   "id": "51d2e292",
   "metadata": {},
   "outputs": [],
   "source": []
  },
  {
   "cell_type": "code",
   "execution_count": null,
   "id": "e30a1955",
   "metadata": {},
   "outputs": [],
   "source": []
  },
  {
   "cell_type": "code",
   "execution_count": null,
   "id": "e645d60a",
   "metadata": {},
   "outputs": [],
   "source": []
  },
  {
   "cell_type": "code",
   "execution_count": null,
   "id": "a4117588",
   "metadata": {},
   "outputs": [],
   "source": []
  },
  {
   "cell_type": "code",
   "execution_count": null,
   "id": "958cef76",
   "metadata": {},
   "outputs": [],
   "source": []
  }
 ],
 "metadata": {
  "kernelspec": {
   "display_name": "Python 3 (ipykernel)",
   "language": "python",
   "name": "python3"
  },
  "language_info": {
   "codemirror_mode": {
    "name": "ipython",
    "version": 3
   },
   "file_extension": ".py",
   "mimetype": "text/x-python",
   "name": "python",
   "nbconvert_exporter": "python",
   "pygments_lexer": "ipython3",
   "version": "3.9.7"
  },
  "toc": {
   "base_numbering": 1,
   "nav_menu": {},
   "number_sections": false,
   "sideBar": true,
   "skip_h1_title": false,
   "title_cell": "Table of Contents",
   "title_sidebar": "Contents",
   "toc_cell": false,
   "toc_position": {},
   "toc_section_display": true,
   "toc_window_display": false
  },
  "widgets": {
   "application/vnd.jupyter.widget-state+json": {
    "state": {},
    "version_major": 2,
    "version_minor": 0
   }
  }
 },
 "nbformat": 4,
 "nbformat_minor": 5
}
